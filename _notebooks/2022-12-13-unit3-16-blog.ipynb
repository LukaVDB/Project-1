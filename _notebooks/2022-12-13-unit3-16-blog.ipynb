{
 "cells": [
  {
   "attachments": {},
   "cell_type": "markdown",
   "metadata": {},
   "source": [
    "# Simulations- Unit 3 Section 16 blog\n",
    "\n",
    "\n",
    "- toc: true\n",
    "- comments: true\n",
    "- permalink: /studentlesson/simulations\n",
    "- categories: [hacks]"
   ]
  },
  {
   "attachments": {},
   "cell_type": "markdown",
   "metadata": {},
   "source": [
    "## Hack #1 \n",
    "* Create an idea for a simulation and describe it (you don’t actually have to code it just think about/answer the guiding questions).\n",
    "- An idea for a simulation is to simulate the water on the beach to determine if it is safe for humans to go in the water. "
   ]
  },
  {
   "attachments": {},
   "cell_type": "markdown",
   "metadata": {},
   "source": [
    "## Hack #2 (collegeboard based questions) \n",
    "* Simulations Quiz (either screenshot or paste quiz in your notebook):"
   ]
  },
  {
   "cell_type": "code",
   "execution_count": 1,
   "metadata": {},
   "outputs": [
    {
     "name": "stdout",
     "output_type": "stream",
     "text": [
      "Welcome to the Simulations Quiz!\n",
      "\n",
      " True or False: Simulations will always have the same result. \n",
      " A: True, \n",
      " B: False\n",
      "You said:  B\n",
      "Correct!\n",
      "\n",
      " True or False: A simulation has results that are more accurate than an experiment \n",
      " A: True, \n",
      " B: False\n",
      "You said:  B\n",
      "Correct!\n",
      "\n",
      " True or False: A simulation can model real world events that are not practical for experiments \n",
      " A: True, \n",
      " B: False\n",
      "You said:  A\n",
      "Correct!\n",
      "\n",
      " Which one of these is FALSE regarding simulations \n",
      " A: Reduces Costs, \n",
      " B: Is safer than real life experiments, \n",
      " C: More Efficient, \n",
      " D: More accurate than real life experiments\n",
      "You said:  D\n",
      "Correct!\n",
      "\n",
      " Which of the following scenarios would be the LEAST beneficial to have as a simulation \n",
      " A: A retail company wants to identify the item which sold the most on their website, \n",
      " B: A restaurant wants to determine if the use of robots will increase efficiency, \n",
      " C: An insurance company wants to study the impact of rain on car accidents, \n",
      " D: A sports car company wants to study design changes to their new bike design \n",
      "You said:  A\n",
      "Correct!\n",
      "\n",
      " Which of the following is better to do as a simulation than as a calculation \n",
      " A: Keeping score at a basketball game, \n",
      " B: Keeping track of how many games a person has won, \n",
      " C: Determining the average grade for a group of tests, \n",
      " D: Studying the impact of carbon emissions on the environment\n",
      "You said:  D\n",
      "Correct!\n",
      "You scored:  6 /6\n"
     ]
    }
   ],
   "source": [
    "questions_number = 6\n",
    "answers_correct = 0\n",
    "questions = [\n",
    "    \"True or False: Simulations will always have the same result. \\n A: True, \\n B: False\",\n",
    "    \"True or False: A simulation has results that are more accurate than an experiment \\n A: True, \\n B: False\",\n",
    "    \"True or False: A simulation can model real world events that are not practical for experiments \\n A: True, \\n B: False\",\n",
    "    \"Which one of these is FALSE regarding simulations \\n A: Reduces Costs, \\n B: Is safer than real life experiments, \\n C: More Efficient, \\n D: More accurate than real life experiments\",\n",
    "    \"Which of the following scenarios would be the LEAST beneficial to have as a simulation \\n A: A retail company wants to identify the item which sold the most on their website, \\n B: A restaurant wants to determine if the use of robots will increase efficiency, \\n C: An insurance company wants to study the impact of rain on car accidents, \\n D: A sports car company wants to study design changes to their new bike design \",\n",
    "    \"Which of the following is better to do as a simulation than as a calculation \\n A: Keeping score at a basketball game, \\n B: Keeping track of how many games a person has won, \\n C: Determining the average grade for a group of tests, \\n D: Studying the impact of carbon emissions on the environment\"\n",
    "]\n",
    "question_answers = [\n",
    "    \"B\",\n",
    "    \"B\",\n",
    "    \"A\",\n",
    "    \"D\",\n",
    "    \"A\",\n",
    "    \"D\"\n",
    "]\n",
    "\n",
    "print(\"Welcome to the Simulations Quiz!\")\n",
    "\n",
    "def ask_question (question, answer):\n",
    "    print(\"\\n\", question)\n",
    "    user_answer = input(question)\n",
    "    print(\"You said: \", user_answer)\n",
    "\n",
    "    if user_answer == answer:\n",
    "        print(\"Correct!\")\n",
    "        global answers_correct\n",
    "        answers_correct = answers_correct + 1\n",
    "    else:\n",
    "        print(\"You are incorrect\")\n",
    "    \n",
    "for num in range(questions_number):\n",
    "    ask_question(questions[num], question_answers[num])\n",
    "\n",
    "print(\"You scored: \", answers_correct, \"/6\")"
   ]
  },
  {
   "attachments": {},
   "cell_type": "markdown",
   "metadata": {},
   "source": [
    "## Hack #3 \n",
    "* Describe the rolling dice simulation (answer guiding questions)"
   ]
  },
  {
   "attachments": {},
   "cell_type": "markdown",
   "metadata": {},
   "source": [
    "1. The algorithm first asks you to input a number 1-6, which would represent how many dice are going to be rolled. Then in the code it pulls the amount of random numbers based on how many dice there are. "
   ]
  },
  {
   "attachments": {},
   "cell_type": "markdown",
   "metadata": {},
   "source": [
    "## Hack #4 \n",
    "* Add a feature onto the rolling dice simulation above \n",
    "    - ex: a 14-sided dice or expand the purpose of the simulation (hint: use conditionals to make dice part of a game/real life situation)"
   ]
  },
  {
   "cell_type": "code",
   "execution_count": 3,
   "metadata": {},
   "outputs": [
    {
     "name": "stdout",
     "output_type": "stream",
     "text": [
      "you rolled: [3, 9, 1, 9, 6]\n"
     ]
    }
   ],
   "source": [
    "\n",
    "\n",
    "def parse_input(input_string):\n",
    "    if input_string.strip() in {\"1\", \"2\", \"3\",\"4\", \"5\", \"6\"}:\n",
    "        return int(input_string)\n",
    "    else:\n",
    "        print(\"Please enter a number from 1 to 6.\")\n",
    "        raise SystemExit(1)\n",
    "\n",
    "import random\n",
    "\n",
    "def roll_dice(num_dice):\n",
    "    roll_results = []\n",
    "    for _ in range(num_dice):\n",
    "        roll = random.randint(1, 10)\n",
    "        roll_results.append(roll)\n",
    "    return roll_results\n",
    "\n",
    "\n",
    "num_dice_input = input(\"How many dice do you want to roll? [1-6] \")\n",
    "num_dice = parse_input(num_dice_input)\n",
    "roll_results = roll_dice(num_dice)\n",
    "\n",
    "print(\"you rolled:\", roll_results) \n"
   ]
  },
  {
   "attachments": {},
   "cell_type": "markdown",
   "metadata": {},
   "source": [
    "- It will now roll dices that have 10 sides. "
   ]
  }
 ],
 "metadata": {
  "kernelspec": {
   "display_name": "base",
   "language": "python",
   "name": "python3"
  },
  "language_info": {
   "codemirror_mode": {
    "name": "ipython",
    "version": 3
   },
   "file_extension": ".py",
   "mimetype": "text/x-python",
   "name": "python",
   "nbconvert_exporter": "python",
   "pygments_lexer": "ipython3",
   "version": "3.9.12"
  },
  "orig_nbformat": 4,
  "vscode": {
   "interpreter": {
    "hash": "647057b329c0d9024bd3a0786c24b4b9bd47f70804056596a3b82b98cd707b5b"
   }
  }
 },
 "nbformat": 4,
 "nbformat_minor": 2
}
