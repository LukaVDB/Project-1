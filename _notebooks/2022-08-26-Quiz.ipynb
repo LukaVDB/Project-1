{
 "cells": [
  {
   "cell_type": "markdown",
   "metadata": {},
   "source": [
    "# \"Quiz\"\n",
    "\"Quiz\"\n",
    " \n",
    "- toc:true\n",
    "- branch: master\n",
    "- badges: true\n",
    "- comments: true\n",
    "- author: Luka Van Den Boomen\n",
    "- categories: [fastpages, jupyter]"
   ]
  },
  {
   "cell_type": "code",
   "execution_count": 1,
   "metadata": {
    "vscode": {
     "languageId": "shellscript"
    }
   },
   "outputs": [
    {
     "name": "stdout",
     "output_type": "stream",
     "text": [
      "Hello, lukavandenboomen running /Library/Developer/CommandLineTools/usr/bin/python3\n",
      "You will be asked 3 questions.\n",
      "Question: Are you ready to take a test?\n",
      "Question: What command is used to change the directory?\n",
      "test is incorrect!\n",
      "Question: What command is used to open the list computer file?\n",
      "test is wrong!\n",
      "Question: What file type do you make a notebook?\n",
      "quiz is wrong!\n",
      "Question: Did you have fun?\n",
      "oh\n",
      "lukavandenboomen you scored 0/3\n"
     ]
    }
   ],
   "source": [
    "https://github.com/LukaVDB/Project-1.git"
   ]
  }
 ],
 "metadata": {
  "kernelspec": {
   "display_name": "Python 3.8.9 64-bit",
   "language": "python",
   "name": "python3"
  },
  "language_info": {
   "codemirror_mode": {
    "name": "ipython",
    "version": 3
   },
   "file_extension": ".py",
   "mimetype": "text/x-python",
   "name": "python",
   "nbconvert_exporter": "python",
   "pygments_lexer": "ipython3",
   "version": "3.8.9"
  },
  "orig_nbformat": 4,
  "vscode": {
   "interpreter": {
    "hash": "31f2aee4e71d21fbe5cf8b01ff0e069b9275f58929596ceb00d14d90e3e16cd6"
   }
  }
 },
 "nbformat": 4,
 "nbformat_minor": 2
}
