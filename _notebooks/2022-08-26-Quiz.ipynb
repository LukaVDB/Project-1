{
 "cells": [
  {
   "cell_type": "markdown",
   "metadata": {},
   "source": [
    "---\n",
    "toc: true\n",
    "layout: post\n",
    "description: A minimal example of using markdown with fastpages.\n",
    "categories: [markdown]\n",
    "title: Take This Quiz\n",
    "---"
   ]
  },
  {
   "cell_type": "code",
   "execution_count": 1,
   "metadata": {},
   "outputs": [
    {
     "name": "stdout",
     "output_type": "stream",
     "text": [
      "Hello, lukavandenboomen running /Library/Developer/CommandLineTools/usr/bin/python3\n",
      "You will be asked 3 questions.\n"
     ]
    },
    {
     "ename": "NameError",
     "evalue": "name 'question_and_answer' is not defined",
     "output_type": "error",
     "traceback": [
      "\u001b[0;31m---------------------------------------------------------------------------\u001b[0m",
      "\u001b[0;31mNameError\u001b[0m                                 Traceback (most recent call last)",
      "\u001b[1;32m/Users/lukavandenboomen/Desktop/Project-1-1/_notebooks/2022-08-26-Quiz.ipynb Cell 2\u001b[0m in \u001b[0;36m<cell line: 13>\u001b[0;34m()\u001b[0m\n\u001b[1;32m     <a href='vscode-notebook-cell:/Users/lukavandenboomen/Desktop/Project-1-1/_notebooks/2022-08-26-Quiz.ipynb#W1sZmlsZQ%3D%3D?line=10'>11</a>\u001b[0m \u001b[39mprint\u001b[39m(\u001b[39m'\u001b[39m\u001b[39mHello, \u001b[39m\u001b[39m'\u001b[39m \u001b[39m+\u001b[39m getpass\u001b[39m.\u001b[39mgetuser() \u001b[39m+\u001b[39m \u001b[39m\"\u001b[39m\u001b[39m running \u001b[39m\u001b[39m\"\u001b[39m \u001b[39m+\u001b[39m sys\u001b[39m.\u001b[39mexecutable)\n\u001b[1;32m     <a href='vscode-notebook-cell:/Users/lukavandenboomen/Desktop/Project-1-1/_notebooks/2022-08-26-Quiz.ipynb#W1sZmlsZQ%3D%3D?line=11'>12</a>\u001b[0m \u001b[39mprint\u001b[39m(\u001b[39m\"\u001b[39m\u001b[39mYou will be asked \u001b[39m\u001b[39m\"\u001b[39m \u001b[39m+\u001b[39m \u001b[39mstr\u001b[39m(questions) \u001b[39m+\u001b[39m \u001b[39m\"\u001b[39m\u001b[39m questions.\u001b[39m\u001b[39m\"\u001b[39m)\n\u001b[0;32m---> <a href='vscode-notebook-cell:/Users/lukavandenboomen/Desktop/Project-1-1/_notebooks/2022-08-26-Quiz.ipynb#W1sZmlsZQ%3D%3D?line=12'>13</a>\u001b[0m question_and_answer(\u001b[39m\"\u001b[39m\u001b[39mAre you ready to take a test?\u001b[39m\u001b[39m\"\u001b[39m)\n\u001b[1;32m     <a href='vscode-notebook-cell:/Users/lukavandenboomen/Desktop/Project-1-1/_notebooks/2022-08-26-Quiz.ipynb#W1sZmlsZQ%3D%3D?line=14'>15</a>\u001b[0m rsp \u001b[39m=\u001b[39m question_with_response(\u001b[39m\"\u001b[39m\u001b[39mWhat command is used to change the directory?\u001b[39m\u001b[39m\"\u001b[39m)\n\u001b[1;32m     <a href='vscode-notebook-cell:/Users/lukavandenboomen/Desktop/Project-1-1/_notebooks/2022-08-26-Quiz.ipynb#W1sZmlsZQ%3D%3D?line=15'>16</a>\u001b[0m \u001b[39mif\u001b[39;00m rsp \u001b[39m==\u001b[39m \u001b[39m\"\u001b[39m\u001b[39mcd\u001b[39m\u001b[39m\"\u001b[39m:\n",
      "\u001b[0;31mNameError\u001b[0m: name 'question_and_answer' is not defined"
     ]
    }
   ],
   "source": [
    "import getpass, sys\n",
    "\n",
    "def question_with_response(prompt):\n",
    "    print(\"Question: \" + prompt)\n",
    "    msg = input()\n",
    "    return msg\n",
    "\n",
    "questions = 3\n",
    "correct = 0\n",
    "\n",
    "print('Hello, ' + getpass.getuser() + \" running \" + sys.executable)\n",
    "print(\"You will be asked \" + str(questions) + \" questions.\")\n",
    "question_with_response(\"Are you ready to take a test?\")\n",
    "\n",
    "rsp = question_with_response(\"What command is used to change the directory?\")\n",
    "if rsp == \"cd\":\n",
    "    print(rsp + \" is correct!\")\n",
    "    correct += 1\n",
    "else:\n",
    "    print(rsp + \" is incorrect!\")\n",
    "\n",
    "rsp = question_with_response(\"What command is used to open the list computer file?\")\n",
    "if rsp == \"ls\":\n",
    "    print(rsp + \" is correct!\")\n",
    "    correct += 1\n",
    "else:\n",
    "    print(rsp + \" is wrong!\")\n",
    "\n",
    "rsp = question_with_response(\"What file type do you make a notebook?\")\n",
    "if rsp == \".ipynb\":\n",
    "    print(rsp + \" is correct!\")\n",
    "    correct += 1\n",
    "else:\n",
    "    print(rsp + \" is wrong!\")\n",
    "rsp = question_with_response(\"Did you have fun?\")\n",
    "if rsp == \"yes\":\n",
    "    print(\"Good!\")\n",
    "if rsp == \"no\":\n",
    "    print(\"Well that's too bad!\")\n",
    "else:\n",
    "    print(\"oh\")\n",
    "\n",
    "print(getpass.getuser() + \" you scored \" + str(correct) +\"/\" + str(questions))"
   ]
  }
 ],
 "metadata": {
  "kernelspec": {
   "display_name": "Python 3.8.9 64-bit",
   "language": "python",
   "name": "python3"
  },
  "language_info": {
   "codemirror_mode": {
    "name": "ipython",
    "version": 3
   },
   "file_extension": ".py",
   "mimetype": "text/x-python",
   "name": "python",
   "nbconvert_exporter": "python",
   "pygments_lexer": "ipython3",
   "version": "3.8.9"
  },
  "orig_nbformat": 4,
  "vscode": {
   "interpreter": {
    "hash": "31f2aee4e71d21fbe5cf8b01ff0e069b9275f58929596ceb00d14d90e3e16cd6"
   }
  }
 },
 "nbformat": 4,
 "nbformat_minor": 2
}
