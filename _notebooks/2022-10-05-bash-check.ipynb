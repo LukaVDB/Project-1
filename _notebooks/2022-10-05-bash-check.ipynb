{
 "cells": [
  {
   "attachments": {},
   "cell_type": "markdown",
   "metadata": {},
   "source": [
    "# \"Bash Check\"\n",
    "\"Bash Check\"\n",
    " \n",
    "- toc:true\n",
    "- branch: master\n",
    "- badges: true\n",
    "- comments: true\n",
    "- author: Luka Van Den Boomen\n",
    "- categories: [jupyter, Week 1]"
   ]
  },
  {
   "cell_type": "code",
   "execution_count": 1,
   "metadata": {
    "vscode": {
     "languageId": "shellscript"
    }
   },
   "outputs": [
    {
     "name": "stdout",
     "output_type": "stream",
     "text": [
      "Using conditional statement to create a project directory and project\n",
      "Directory /Users/lukavandenboomen/vscode exists.\n",
      "Directory /Users/lukavandenboomen/vscode/APCSP exists.\n"
     ]
    }
   ],
   "source": [
    "echo \"Using conditional statement to create a project directory and project\"\n",
    "\n",
    "# Variable section\n",
    "export project_dir=$HOME/vscode  # change vscode to different name to test git clone\n",
    "export project=$project_dir/APCSP  # change APCSP to name of project from git clone\n",
    "export project_repo=\"https://github.com/nighthawkcoders/APCSP.git\"  # change to project of choice\n",
    "\n",
    "cd ~    # start in home directory\n",
    "\n",
    "# Conditional block to make a project directory\n",
    "if [ ! -d $project_dir ]\n",
    "then \n",
    "    echo \"Directory $project_dir does not exists... makinng directory $project_dir\"\n",
    "    mkdir -p $project_dir\n",
    "fi\n",
    "echo \"Directory $project_dir exists.\" \n",
    "\n",
    "# Conditional block to git clone a project from project_repo\n",
    "if [ ! -d $project ]\n",
    "then\n",
    "    echo \"Directory $project does not exists... cloning $project_repo\"\n",
    "    cd $project_dir\n",
    "    git clone $project_repo\n",
    "    cd ~\n",
    "fi\n",
    "echo \"Directory $project exists.\""
   ]
  },
  {
   "cell_type": "code",
   "execution_count": 2,
   "metadata": {
    "vscode": {
     "languageId": "shellscript"
    }
   },
   "outputs": [
    {
     "name": "stdout",
     "output_type": "stream",
     "text": [
      "Navigate to project, then navigate to area wwhere files were cloned\n",
      "/Users/lukavandenboomen/vscode/APCSP\n",
      "\n",
      "list top level or root of files with project pulled from github\n",
      "Gemfile\t\t\t_includes\t\t_word\n",
      "LICENSE\t\t\t_layouts\t\tassets\n",
      "Makefile\t\t_notebooks\t\tdocker-compose.yml\n",
      "README.md\t\t_pages\t\t\timages\n",
      "_action_files\t\t_plugins\t\tindex.html\n",
      "_config.yml\t\t_posts\t\t\tpython\n",
      "_fastpages_docs\t\t_sass\n",
      "\n",
      "list again with hidden files pulled from github\n",
      ".\t\t\tMakefile\t\t_posts\n",
      "..\t\t\tREADME.md\t\t_sass\n",
      ".devcontainer.json\t_action_files\t\t_word\n",
      ".git\t\t\t_config.yml\t\tassets\n",
      ".gitattributes\t\t_fastpages_docs\t\tdocker-compose.yml\n",
      ".github\t\t\t_includes\t\timages\n",
      ".gitignore\t\t_layouts\t\tindex.html\n",
      ".vscode\t\t\t_notebooks\t\tpython\n",
      "Gemfile\t\t\t_pages\n",
      "LICENSE\t\t\t_plugins\n",
      "\n",
      "list all files in long format\n",
      "total 96\n",
      "drwxr-xr-x  28 lukavandenboomen  staff    896 Aug 19 13:42 .\n",
      "drwxr-xr-x   3 lukavandenboomen  staff     96 Aug 19 13:42 ..\n",
      "-rw-r--r--   1 lukavandenboomen  staff    420 Aug 19 13:42 .devcontainer.json\n",
      "drwxr-xr-x  15 lukavandenboomen  staff    480 Aug 25 13:20 .git\n",
      "-rw-r--r--   1 lukavandenboomen  staff     84 Aug 19 13:42 .gitattributes\n",
      "drwxr-xr-x   4 lukavandenboomen  staff    128 Aug 19 13:42 .github\n",
      "-rw-r--r--   1 lukavandenboomen  staff    917 Aug 19 13:42 .gitignore\n",
      "drwxr-xr-x   3 lukavandenboomen  staff     96 Aug 19 13:42 .vscode\n",
      "-rwxr-xr-x   1 lukavandenboomen  staff   1304 Aug 19 13:42 Gemfile\n",
      "-rw-r--r--   1 lukavandenboomen  staff  11351 Aug 19 13:42 LICENSE\n",
      "-rwxr-xr-x   1 lukavandenboomen  staff   1422 Aug 19 13:42 Makefile\n",
      "-rwxr-xr-x   1 lukavandenboomen  staff   3614 Aug 19 13:42 README.md\n",
      "drwxr-xr-x  18 lukavandenboomen  staff    576 Aug 19 13:42 _action_files\n",
      "-rw-r--r--   1 lukavandenboomen  staff   3716 Aug 19 13:42 _config.yml\n",
      "drwxr-xr-x  24 lukavandenboomen  staff    768 Aug 19 13:42 _fastpages_docs\n",
      "drwxr-xr-x  29 lukavandenboomen  staff    928 Aug 19 13:42 _includes\n",
      "drwxr-xr-x   6 lukavandenboomen  staff    192 Aug 19 13:42 _layouts\n",
      "drwxr-xr-x  11 lukavandenboomen  staff    352 Aug 23 13:55 _notebooks\n",
      "drwxr-xr-x   9 lukavandenboomen  staff    288 Aug 19 13:42 _pages\n",
      "drwxr-xr-x   4 lukavandenboomen  staff    128 Aug 19 13:42 _plugins\n",
      "drwxr-xr-x  29 lukavandenboomen  staff    928 Aug 19 13:42 _posts\n",
      "drwxr-xr-x   3 lukavandenboomen  staff     96 Aug 19 13:42 _sass\n",
      "drwxr-xr-x   3 lukavandenboomen  staff     96 Aug 19 13:42 _word\n",
      "drwxr-xr-x   4 lukavandenboomen  staff    128 Aug 19 13:42 assets\n",
      "-rwxr-xr-x   1 lukavandenboomen  staff   1136 Aug 19 13:42 docker-compose.yml\n",
      "drwxr-xr-x  51 lukavandenboomen  staff   1632 Aug 19 13:42 images\n",
      "-rw-r--r--   1 lukavandenboomen  staff   1061 Aug 19 13:42 index.html\n",
      "drwxr-xr-x   3 lukavandenboomen  staff     96 Aug 19 13:42 python\n"
     ]
    }
   ],
   "source": [
    "echo \"Navigate to project, then navigate to area wwhere files were cloned\"\n",
    "cd $project\n",
    "pwd\n",
    "\n",
    "echo \"\"\n",
    "echo \"list top level or root of files with project pulled from github\"\n",
    "ls\n",
    "\n",
    "echo \"\"\n",
    "echo \"list again with hidden files pulled from github\"\n",
    "ls -a   # hidden files flag, many shell commands have flags\n",
    "\n",
    "echo \"\"\n",
    "echo \"list all files in long format\"\n",
    "ls -al   # all files and long listing"
   ]
  },
  {
   "cell_type": "code",
   "execution_count": 3,
   "metadata": {
    "vscode": {
     "languageId": "shellscript"
    }
   },
   "outputs": [
    {
     "name": "stdout",
     "output_type": "stream",
     "text": [
      "Look for posts\n",
      "/Users/lukavandenboomen/vscode/APCSP/_posts\n",
      "total 456\n",
      "-rw-r--r--  1 lukavandenboomen  staff  21306 Aug 19 13:42 2022-06-01-TT160-deploy.md\n",
      "-rw-r--r--  1 lukavandenboomen  staff   5861 Aug 19 13:42 2022-07-07-PBL-binary.md\n",
      "-rw-r--r--  1 lukavandenboomen  staff   3085 Aug 19 13:42 2022-07-08-PBL-grade_calc.md\n",
      "-rw-r--r--  1 lukavandenboomen  staff   3698 Aug 19 13:42 2022-07-08-PBL-graph.md\n",
      "-rw-r--r--  1 lukavandenboomen  staff   5729 Aug 19 13:42 2022-07-08-PBL-life.md\n",
      "-rw-r--r--  1 lukavandenboomen  staff  14387 Aug 19 13:42 2022-07-08-PBL-snake.md\n",
      "-rw-r--r--  1 lukavandenboomen  staff    334 Aug 19 13:42 2022-07-10-PBL-database.md\n",
      "-rw-r--r--  1 lukavandenboomen  staff   2908 Aug 19 13:42 2022-07-10-PBL-jokes.md\n",
      "-rw-r--r--  1 lukavandenboomen  staff   4046 Aug 19 13:42 2022-07-10-PBL-rapidapi.md\n",
      "-rw-r--r--  1 lukavandenboomen  staff   6685 Aug 19 13:42 2022-07-19-PBL-calculator.md\n",
      "-rw-r--r--  1 lukavandenboomen  staff  23325 Aug 19 13:42 2022-07-25-CSP-workshop.md\n",
      "-rw-r--r--  1 lukavandenboomen  staff   2333 Aug 19 13:42 2022-08-15-TP000-student_score_history.md\n",
      "-rw-r--r--  1 lukavandenboomen  staff   4363 Aug 19 13:42 2022-08-15-TP100-pseudo_code.md\n",
      "-rw-r--r--  1 lukavandenboomen  staff   7968 Aug 19 13:42 2022-08-15-TR100-tool_setup.md\n",
      "-rw-r--r--  1 lukavandenboomen  staff  15026 Aug 19 13:42 2022-08-15-TT100-tools.md\n",
      "-rw-r--r--  1 lukavandenboomen  staff   5590 Aug 19 13:42 2022-08-15-TT101-vscode-wsl.md\n",
      "-rw-r--r--  1 lukavandenboomen  staff   2066 Aug 19 13:42 2022-08-22-TR110-intro_python.md\n",
      "-rw-r--r--  1 lukavandenboomen  staff   5173 Aug 19 13:42 2022-08-22-TT110-fastpages.md\n",
      "-rw-r--r--  1 lukavandenboomen  staff   2635 Aug 19 13:42 2022-08-22-TT110-focus.md\n",
      "-rw-r--r--  1 lukavandenboomen  staff   2737 Aug 19 13:42 2022-08-29-TR120-data_abstract.md\n",
      "-rw-r--r--  1 lukavandenboomen  staff  10683 Aug 19 13:42 2022-08-29-TT120-agile.md\n",
      "-rw-r--r--  1 lukavandenboomen  staff   4498 Aug 19 13:42 2022-08-29-TT120-html_fragments.md\n",
      "-rw-r--r--  1 lukavandenboomen  staff   9037 Aug 19 13:42 2022-09-05-TP130-create_performance_task.md\n",
      "-rw-r--r--  1 lukavandenboomen  staff   7753 Aug 19 13:42 2022-09-05-TP131-create-task-bria.md\n",
      "-rw-r--r--  1 lukavandenboomen  staff   8066 Aug 19 13:42 2022-09-05-TR130-creative_development.md\n",
      "-rw-r--r--  1 lukavandenboomen  staff   3520 Aug 19 13:42 2022-09-05-TT130-applab.md\n",
      "-rw-r--r--  1 lukavandenboomen  staff    720 Aug 19 13:42 README.md\n"
     ]
    }
   ],
   "source": [
    "echo \"Look for posts\"\n",
    "export posts=$project/_posts  # _posts inside project\n",
    "cd $posts  # this should exist per fastpages\n",
    "pwd  # present working directory\n",
    "ls -l  # list posts"
   ]
  },
  {
   "cell_type": "code",
   "execution_count": 4,
   "metadata": {
    "vscode": {
     "languageId": "shellscript"
    }
   },
   "outputs": [
    {
     "name": "stdout",
     "output_type": "stream",
     "text": [
      "Look for notebooks\n",
      "/Users/lukavandenboomen/vscode/APCSP/_notebooks\n",
      "total 168\n",
      "-rw-r--r--  1 lukavandenboomen  staff  14243 Aug 19 13:42 2022-06-01-TT150-webapi_tutorial.ipynb\n",
      "-rw-r--r--  1 lukavandenboomen  staff   6520 Aug 19 13:42 2022-06-01-TT160-bash_tutorial.ipynb\n",
      "-rw-r--r--  1 lukavandenboomen  staff   8653 Aug 19 13:42 2022-07-21-PBL-neo4j_intro.ipynb\n",
      "-rw-r--r--  1 lukavandenboomen  staff  12966 Aug 23 13:55 2022-08-22-TP110-python_hello.ipynb\n",
      "-rw-r--r--  1 lukavandenboomen  staff  10141 Aug 19 13:42 2022-08-29-TP120-python_lists.ipynb\n",
      "-rw-r--r--  1 lukavandenboomen  staff  12632 Aug 19 13:42 2022-09-05-TT130-js_tutorial.ipynb\n",
      "-rw-r--r--  1 lukavandenboomen  staff    771 Aug 19 13:42 README.md\n",
      "drwxr-xr-x  3 lukavandenboomen  staff     96 Aug 19 13:42 images\n"
     ]
    }
   ],
   "source": [
    "echo \"Look for notebooks\"\n",
    "export notebooks=$project/_notebooks  # _notebooks is inside project\n",
    "cd $notebooks   # this should exist per fastpages\n",
    "pwd  # present working directory\n",
    "ls -l  # list notebooks"
   ]
  },
  {
   "cell_type": "code",
   "execution_count": 5,
   "metadata": {
    "vscode": {
     "languageId": "shellscript"
    }
   },
   "outputs": [
    {
     "name": "stdout",
     "output_type": "stream",
     "text": [
      "Look for images in notebooks, print working directory, list files\n",
      "/Users/lukavandenboomen/vscode/APCSP/_notebooks/images\n",
      "total 160\n",
      "-rw-r--r--  1 lukavandenboomen  staff  79231 Aug 19 13:42 kernels.png\n"
     ]
    }
   ],
   "source": [
    "echo \"Look for images in notebooks, print working directory, list files\"\n",
    "cd $notebooks/images  # this should exist per fastpages\n",
    "pwd\n",
    "ls -l"
   ]
  },
  {
   "cell_type": "code",
   "execution_count": 6,
   "metadata": {
    "vscode": {
     "languageId": "shellscript"
    }
   },
   "outputs": [
    {
     "name": "stdout",
     "output_type": "stream",
     "text": [
      "Navigate to project, then navigate to area wwhere files were cloned\n",
      "show the contents of README.md\n",
      "\n",
      "[//]: # (This template replaces README.md when someone creates a new repo with the fastpages template.)\n",
      "\n",
      "![](https://github.com/nighthawkcoders/APCSP/workflows/CI/badge.svg) \n",
      "![](https://github.com/nighthawkcoders/APCSP/workflows/GH-Pages%20Status/badge.svg) \n",
      "[![](https://img.shields.io/static/v1?label=fastai&message=fastpages&color=57aeac&labelColor=black&style=flat&logo=data:image/png;base64,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)](https://github.com/fastai/fastpages)\n",
      "\n",
      "https://nighthawkcoders.github.io/APCSP/\n",
      "\n",
      "# My Blog\n",
      "\n",
      "\n",
      "_powered by [fastpages](https://github.com/fastai/fastpages)_\n",
      "\n",
      "\n",
      "## What To Do Next?\n",
      "\n",
      "Great!  You have setup your repo.  Now its time to start writing content.  Some helpful links:\n",
      "\n",
      "- [Writing Blogs With Jupyter](https://github.com/fastai/fastpages#writing-blog-posts-with-jupyter)\n",
      "\n",
      "- [Writing Blogs With Markdown](https://github.com/fastai/fastpages#writing-blog-posts-with-markdown)\n",
      "\n",
      "- [Writing Blog Posts With Word](https://github.com/fastai/fastpages#writing-blog-posts-with-microsoft-word)\n",
      "\n",
      "- [(Optional) Preview Your Blog Locally](_fastpages_docs/DEVELOPMENT.md)\n",
      "\n",
      "Note: you may want to remove example blog posts from the `_posts`,  `_notebooks` or `_word` folders (but leave them empty, don't delete these folders) if you don't want these blog posts to appear on your site.\n",
      "\n",
      "Please use the [nbdev & blogging channel](https://forums.fast.ai/c/fastai-users/nbdev/48) in the fastai forums for any questions or feature requests.\n",
      "\n",
      "end of README.md\n"
     ]
    }
   ],
   "source": [
    "echo \"Navigate to project, then navigate to area wwhere files were cloned\"\n",
    "\n",
    "cd $project\n",
    "echo \"show the contents of README.md\"\n",
    "echo \"\"\n",
    "\n",
    "cat README.md  # show contents of file, in this case markdown\n",
    "echo \"\"\n",
    "echo \"end of README.md\""
   ]
  },
  {
   "cell_type": "code",
   "execution_count": 7,
   "metadata": {
    "vscode": {
     "languageId": "shellscript"
    }
   },
   "outputs": [
    {
     "name": "stdout",
     "output_type": "stream",
     "text": [
      "Show the shell environment variables, key on left of equal value on right\n",
      "\n",
      "SHELL=/bin/bash\n",
      "TMPDIR=/var/folders/2p/fnt1087x1cb9j8lw30wbtt0w0000gq/T/\n",
      "CONDA_SHLVL=1\n",
      "PYTHONUNBUFFERED=1\n",
      "CONDA_PROMPT_MODIFIER=(base) \n",
      "OLDPWD=/Users/lukavandenboomen/vscode/APCSP/_notebooks/images\n",
      "ORIGINAL_XDG_CURRENT_DESKTOP=undefined\n",
      "MallocNanoZone=0\n",
      "PYTHONIOENCODING=utf-8\n",
      "USER=lukavandenboomen\n",
      "COMMAND_MODE=unix2003\n",
      "CONDA_EXE=/Users/lukavandenboomen/opt/anaconda3/bin/conda\n",
      "SSH_AUTH_SOCK=/private/tmp/com.apple.launchd.ZDDIBNcbDn/Listeners\n",
      "__CF_USER_TEXT_ENCODING=0x1F7:0x0:0x0\n",
      "PAGER=cat\n",
      "VSCODE_AMD_ENTRYPOINT=vs/workbench/api/node/extensionHostProcess\n",
      "ELECTRON_RUN_AS_NODE=1\n",
      "_CE_CONDA=\n",
      "PATH=/Users/lukavandenboomen/opt/anaconda3/bin:/Users/lukavandenboomen/opt/anaconda3/condabin:/Library/Frameworks/Python.framework/Versions/2.7/bin:/Library/Frameworks/Python.framework/Versions/3.7/bin:/usr/local/bin:/usr/bin:/bin:/usr/sbin:/sbin\n",
      "CONDA_PREFIX=/Users/lukavandenboomen/opt/anaconda3\n",
      "__CFBundleIdentifier=com.microsoft.VSCode\n",
      "PWD=/Users/lukavandenboomen/vscode/APCSP\n",
      "notebooks=/Users/lukavandenboomen/vscode/APCSP/_notebooks\n",
      "VSCODE_HANDLES_UNCAUGHT_ERRORS=true\n",
      "project_repo=https://github.com/nighthawkcoders/APCSP.git\n",
      "project=/Users/lukavandenboomen/vscode/APCSP\n",
      "project_dir=/Users/lukavandenboomen/vscode\n",
      "XPC_FLAGS=0x0\n",
      "PS1=[PEXP\\[\\]ECT_PROMPT>\n",
      "_CE_M=\n",
      "XPC_SERVICE_NAME=0\n",
      "SHLVL=2\n",
      "HOME=/Users/lukavandenboomen\n",
      "APPLICATION_INSIGHTS_NO_DIAGNOSTIC_CHANNEL=1\n",
      "VSCODE_NLS_CONFIG={\"locale\":\"en-us\",\"availableLanguages\":{},\"_languagePackSupport\":true}\n",
      "CONDA_PYTHON_EXE=/Users/lukavandenboomen/opt/anaconda3/bin/python\n",
      "LOGNAME=lukavandenboomen\n",
      "VSCODE_IPC_HOOK=/Users/lukavandenboomen/Library/Application Support/Code/1.70.2-main.sock\n",
      "VSCODE_CODE_CACHE_PATH=/Users/lukavandenboomen/Library/Application Support/Code/CachedData/e4503b30fc78200f846c62cf8091b76ff5547662\n",
      "CONDA_DEFAULT_ENV=base\n",
      "VSCODE_PID=89511\n",
      "posts=/Users/lukavandenboomen/vscode/APCSP/_posts\n",
      "VSCODE_CWD=/\n",
      "_=/usr/bin/env\n"
     ]
    }
   ],
   "source": [
    "echo \"Show the shell environment variables, key on left of equal value on right\"\n",
    "echo \"\"\n",
    "\n",
    "env"
   ]
  },
  {
   "cell_type": "code",
   "execution_count": 8,
   "metadata": {
    "vscode": {
     "languageId": "shellscript"
    }
   },
   "outputs": [
    {
     "name": "stdout",
     "output_type": "stream",
     "text": [
      "\n",
      "show the secrets of .git\n",
      "total 96\n",
      "-rw-r--r--   1 lukavandenboomen  staff    386 Aug 25 13:20 COMMIT_EDITMSG\n",
      "-rw-r--r--   1 lukavandenboomen  staff    102 Aug 25 13:28 FETCH_HEAD\n",
      "-rw-r--r--   1 lukavandenboomen  staff     23 Aug 19 13:42 HEAD\n",
      "-rw-r--r--   1 lukavandenboomen  staff     41 Aug 25 13:19 ORIG_HEAD\n",
      "-rw-r--r--   1 lukavandenboomen  staff    314 Aug 19 13:42 config\n",
      "-rw-r--r--   1 lukavandenboomen  staff     73 Aug 19 13:42 description\n",
      "drwxr-xr-x  15 lukavandenboomen  staff    480 Aug 19 13:42 hooks\n",
      "-rw-r--r--   1 lukavandenboomen  staff  19716 Aug 25 13:20 index\n",
      "drwxr-xr-x   3 lukavandenboomen  staff     96 Aug 19 13:42 info\n",
      "drwxr-xr-x   4 lukavandenboomen  staff    128 Aug 19 13:42 logs\n",
      "drwxr-xr-x  38 lukavandenboomen  staff   1216 Aug 25 13:28 objects\n",
      "-rw-r--r--   1 lukavandenboomen  staff    271 Aug 19 13:42 packed-refs\n",
      "drwxr-xr-x   5 lukavandenboomen  staff    160 Aug 19 13:42 refs\n",
      "\n",
      "look at config file\n",
      "[core]\n",
      "\trepositoryformatversion = 0\n",
      "\tfilemode = true\n",
      "\tbare = false\n",
      "\tlogallrefupdates = true\n",
      "\tignorecase = true\n",
      "\tprecomposeunicode = true\n",
      "[remote \"origin\"]\n",
      "\turl = https://github.com/nighthawkcoders/APCSP.git\n",
      "\tfetch = +refs/heads/*:refs/remotes/origin/*\n",
      "[branch \"master\"]\n",
      "\tremote = origin\n",
      "\tmerge = refs/heads/master\n"
     ]
    }
   ],
   "source": [
    "cd $project\n",
    "\n",
    "echo \"\"\n",
    "echo \"show the secrets of .git\"\n",
    "cd .git\n",
    "ls -l\n",
    "\n",
    "echo \"\"\n",
    "echo \"look at config file\"\n",
    "cat config"
   ]
  }
 ],
 "metadata": {
  "kernelspec": {
   "display_name": "Python 3.8.9 64-bit",
   "language": "python",
   "name": "python3"
  },
  "language_info": {
   "codemirror_mode": "shell",
   "file_extension": ".sh",
   "mimetype": "text/x-sh",
   "name": "python",
   "version": "3.9.6 (default, Aug  5 2022, 15:21:02) \n[Clang 14.0.0 (clang-1400.0.29.102)]"
  },
  "orig_nbformat": 4,
  "vscode": {
   "interpreter": {
    "hash": "31f2aee4e71d21fbe5cf8b01ff0e069b9275f58929596ceb00d14d90e3e16cd6"
   }
  }
 },
 "nbformat": 4,
 "nbformat_minor": 2
}
