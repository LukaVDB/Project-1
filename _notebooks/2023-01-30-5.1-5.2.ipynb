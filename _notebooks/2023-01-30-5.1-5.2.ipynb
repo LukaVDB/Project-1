{
 "cells": [
  {
   "attachments": {},
   "cell_type": "markdown",
   "metadata": {},
   "source": [
    "# 5.1 and 5.2 Blog\n",
    "\n",
    "- title: 5.1 and 5.2 Blog\n",
    "- toc: true\n",
    "- categories: []"
   ]
  },
  {
   "attachments": {},
   "cell_type": "markdown",
   "metadata": {},
   "source": [
    "- Think of three beneficial effects of your projects based on 5.1 Unit\n",
    "\n",
    "1. Our project will help people learn about the stock market\n",
    "2. Encourage investment\n",
    "3. Potentially make users money\n",
    "\n",
    "- Think of a potential harmful effect of your project.\n",
    "\n",
    "1. Users could lose money when they invest in the stock market\n",
    "\n",
    "- Answer with an opinion and learnings so far this year:  What are pros/cons on internet blockers at router and lack of admin password on lab machines at school?\n",
    "\n",
    "1. Pro: It would allow for more freedom to the users\n",
    "2. Con: Could prevent from using the internet negatively\n",
    "\n",
    "- What concerns do you have personally about the digital divide?  For yourself or for others.\n",
    "\n",
    "1. As the world progresses into the future, some people are going to be more or less stuck in the past because they don't have access to newer technology."
   ]
  }
 ],
 "metadata": {
  "kernelspec": {
   "display_name": "base",
   "language": "python",
   "name": "python3"
  },
  "language_info": {
   "name": "python",
   "version": "3.9.12 (main, Apr  5 2022, 01:53:17) \n[Clang 12.0.0 ]"
  },
  "orig_nbformat": 4,
  "vscode": {
   "interpreter": {
    "hash": "647057b329c0d9024bd3a0786c24b4b9bd47f70804056596a3b82b98cd707b5b"
   }
  }
 },
 "nbformat": 4,
 "nbformat_minor": 2
}
