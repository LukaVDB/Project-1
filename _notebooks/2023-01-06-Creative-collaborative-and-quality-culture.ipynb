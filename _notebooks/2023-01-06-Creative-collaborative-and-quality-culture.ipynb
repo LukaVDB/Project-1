{
 "cells": [
  {
   "attachments": {},
   "cell_type": "markdown",
   "metadata": {},
   "source": [
    "# Creative, collaborative, and quality culture.\n",
    "\n",
    "- title: Creative, collaborative, and quality culture\n",
    "- toc: true\n",
    "- badges: true\n",
    "- comments: true"
   ]
  },
  {
   "attachments": {},
   "cell_type": "markdown",
   "metadata": {},
   "source": [
    "Luka Van Den Boomen\n",
    "Period 4\n",
    "\n",
    "1. What would you code given absolute freedom?\n",
    "If I was given absolute freedom on what to code, I would code a program that would allow a user to explore the world and visit places that they would want to visit in real life even if they couldn't. It would be like visiting any place in the world without the hassle of traveling to this location because you can explore it from where you are.\n",
    "\n",
    "2. What would motivate you to be productive each day given the freedom to code what you want?\n",
    "I would be motivated by having the freedom to code what I want. This could include various projects.\n",
    "\n",
    "3. How would you measure success in your team?\n",
    "I would measure the success in our team by checking the progress of individual students and what they have contributed to the team.\n",
    "\n",
    "4. In a project, most students are more motivated if the project seems useful, unique, and has an interested consumer. How will you maintain motivation?\n",
    "I would keep myself motivated by thinking about the goal that I am trying to achieve. In this case, it would be the end result of the project.\n",
    "\n",
    "5. Take a moment to review standards linked on this page. Provide summary in comment on why information is this blog is important?\n",
    "Some of the standards that should be used are agile, quality method, and jobs that can lead to success. These are important because they allow for more efficiency and collaboration amongst group members so that everyone can contribute to their work.\n",
    "\n",
    "6. Would you rather work on PBL project, or or do assigned free-response coding questions (aka FRQs)? Which would be easier to meet class standards?\n",
    "I would prefer a PBL project because it allows for more creativity to be put into the project and shows what the student knows instead of if they know the answer to a certain question.\n",
    "\n",
    "7. Trust and Freedom are often earned. How will you show your passion and ability to succeed in your work?\n",
    "By showing progress on our project and what we have completed.\n",
    "\n",
    "8. What key learnings and focusses are a priority for you?\n",
    "I would like to build teamwork skills that would allow for good productivity and also learn to put more effort into my work."
   ]
  }
 ],
 "metadata": {
  "kernelspec": {
   "display_name": "base",
   "language": "python",
   "name": "python3"
  },
  "language_info": {
   "name": "python",
   "version": "3.9.12 (main, Apr  5 2022, 01:53:17) \n[Clang 12.0.0 ]"
  },
  "orig_nbformat": 4,
  "vscode": {
   "interpreter": {
    "hash": "647057b329c0d9024bd3a0786c24b4b9bd47f70804056596a3b82b98cd707b5b"
   }
  }
 },
 "nbformat": 4,
 "nbformat_minor": 2
}
