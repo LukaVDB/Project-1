{
 "cells": [
  {
   "attachments": {},
   "cell_type": "markdown",
   "metadata": {},
   "source": [
    "# Peer Grading\n",
    "- title: Peer Grading\n",
    "- toc: true\n",
    "- badges: true\n",
    "- comments: true"
   ]
  },
  {
   "attachments": {},
   "cell_type": "markdown",
   "metadata": {},
   "source": [
    "\n",
    "# Submission 1\n",
    "\n",
    "\n",
    "| Reporting Category | Student Score | College Board Score | Comments |\n",
    "| - | - | - | - |\n",
    "| Row 1: Program Purpose and Function | 1 | 0 | The student in the video shows that the program works well. Meets expectations. Collegeboard said that their response did not meet the criteria that was required. |\n",
    "| Row 2: Data Abstraction | 1 | 1 | The list has various ways to filter the triangles types. Would allow the program to run successfully. Collegeboard said that it also meets the requirements and that the response identifies what is inside the list. |\n",
    "| Row 3: Managing Complexity | 0 | 0 | The list doesn't show what he is doing. Collegeboard talks about how this person made all the classifications into one place but that is not necessary. |\n",
    "| Row 4: Procedural Abstraction | 1 | 1 | 3.c.i. and 3.c.ii. The procedure is called. Collegeboard says that he meets all of the requirements. |\n",
    "| Row 5: Algorithm Implementation | 1 | 1 | His written response was detailed and showed what he needed. Collegeboard talks about how he gives his steps of the algorithm in great detail. |\n",
    "| Row 6: Testing | 1 | 1 | His response shows  that he met the conditions in the requirements. Shows that his answers from his algorithm was correct. |\n",
    "\n",
    "\n",
    "# Submission 2\n",
    "\n",
    "\n",
    "| Reporting Category | Student Score | College Board Score | Comments |\n",
    "| - | - | - | - |\n",
    "| Row 1: Program Purpose and Function | 1 | 1 | The video shows that the program runs well. SHows running of the code and that the out put of the data was correct. |\n",
    "| Row 2: Data Abstraction | 0 | 1 | Collegeboard gave them a score of 1 because they met the requirements but they do hae some code segments that were unneccesary. |\n",
    "| Row 3: Managing Complexity | 0 | 1 | Manages complexity well. Explains how a list is the most effient way to manage large amounts of data. |\n",
    "| Row 4: Procedural Abstraction | 1 | 1 | Uses procedures and uses them effectively. |\n",
    "| Row 5: Algorithm Implementation | 1 | 1 | Algorithm works well with the the rest of the program. |\n",
    "| Row 6: Testing | 1 | 1 | Alogrithm works and written response adresses all the requirements. |"
   ]
  }
 ],
 "metadata": {
  "kernelspec": {
   "display_name": "base",
   "language": "python",
   "name": "python3"
  },
  "language_info": {
   "name": "python",
   "version": "3.9.12 (main, Apr  5 2022, 01:53:17) \n[Clang 12.0.0 ]"
  },
  "orig_nbformat": 4,
  "vscode": {
   "interpreter": {
    "hash": "647057b329c0d9024bd3a0786c24b4b9bd47f70804056596a3b82b98cd707b5b"
   }
  }
 },
 "nbformat": 4,
 "nbformat_minor": 2
}
