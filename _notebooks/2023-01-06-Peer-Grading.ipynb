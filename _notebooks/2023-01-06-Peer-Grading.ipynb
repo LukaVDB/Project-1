{
 "cells": [
  {
   "attachments": {},
   "cell_type": "markdown",
   "metadata": {},
   "source": [
    "# Peer Grading\n",
    "- title: Peer Grading\n",
    "- toc: true\n",
    "- badges: true\n",
    "- comments: true"
   ]
  },
  {
   "attachments": {},
   "cell_type": "markdown",
   "metadata": {},
   "source": [
    "\n",
    "# Submission 1\n",
    "\n",
    "\n",
    "| Reporting Category | Student Score | College Board Score | Comments |\n",
    "| - | - | - | - |\n",
    "| Row 1: Program Purpose and Function | 0 | 1 | The student in the video shows that the program works well.|\n",
    "| Row 2: Data Abstraction | 1 | 0 | The list has various ways to filter the triangles. |\n",
    "| Row 3: Managing Complexity | 0 | 0 | The list doesn't show what he is doing. |\n",
    "| Row 4: Procedural Abstraction | 1 | 1 | 3.c.i. and 3.c.ii. The procedure is called. |\n",
    "| Row 5: Algorithm Implementation | 1 | 1 | His written response was detailed and showed what he needed. |\n",
    "| Row 6: Testing | 1 | 1 | His response shows  that he met the conditions in the requirements. |\n",
    "\n",
    "\n",
    "# Submission 2\n",
    "\n",
    "\n",
    "| Reporting Category | Student Score | College Board Score | Comments |\n",
    "| - | - | - | - |\n",
    "| Row 1: Program Purpose and Function | 1 | 1 | The video shows that the program runs well. |\n",
    "| Row 2: Data Abstraction | 0 | 1 | There is no list. |\n",
    "| Row 3: Managing Complexity | 0 | 1 | Manages complexity well. |\n",
    "| Row 4: Procedural Abstraction | 1 | 1 | Uses procedures and uses them effectively. |\n",
    "| Row 5: Algorithm Implementation | 1 | 1 | Algorithm works well with the the rest of the program. |\n",
    "| Row 6: Testing | 1 | 1 | Alogrithm works and written response adresses all the requirements. |"
   ]
  }
 ],
 "metadata": {
  "kernelspec": {
   "display_name": "base",
   "language": "python",
   "name": "python3"
  },
  "language_info": {
   "name": "python",
   "version": "3.9.12 (main, Apr  5 2022, 01:53:17) \n[Clang 12.0.0 ]"
  },
  "orig_nbformat": 4,
  "vscode": {
   "interpreter": {
    "hash": "647057b329c0d9024bd3a0786c24b4b9bd47f70804056596a3b82b98cd707b5b"
   }
  }
 },
 "nbformat": 4,
 "nbformat_minor": 2
}
