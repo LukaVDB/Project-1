{
 "cells": [
  {
   "cell_type": "markdown",
   "metadata": {},
   "source": [
    "# My API\n",
    "\n",
    "- My API\n",
    "- toc: true\n",
    "- categories: [API]\n",
    "- tags: [python]"
   ]
  },
  {
   "cell_type": "code",
   "execution_count": 6,
   "metadata": {},
   "outputs": [
    {
     "ename": "TypeError",
     "evalue": "byte indices must be integers or slices, not str",
     "output_type": "error",
     "traceback": [
      "\u001b[0;31m---------------------------------------------------------------------------\u001b[0m",
      "\u001b[0;31mTypeError\u001b[0m                                 Traceback (most recent call last)",
      "\u001b[0;32m/var/folders/2p/fnt1087x1cb9j8lw30wbtt0w0000gq/T/ipykernel_15131/3482235627.py\u001b[0m in \u001b[0;36m<module>\u001b[0;34m\u001b[0m\n\u001b[1;32m     16\u001b[0m \u001b[0mloc\u001b[0m \u001b[0;34m=\u001b[0m \u001b[0mresponse\u001b[0m\u001b[0;34m.\u001b[0m\u001b[0mjson\u001b[0m\u001b[0;34m(\u001b[0m\u001b[0;34m)\u001b[0m\u001b[0;34m.\u001b[0m\u001b[0mget\u001b[0m\u001b[0;34m(\u001b[0m\u001b[0;34m'place'\u001b[0m\u001b[0;34m)\u001b[0m\u001b[0;34m\u001b[0m\u001b[0;34m\u001b[0m\u001b[0m\n\u001b[1;32m     17\u001b[0m \u001b[0;32mfor\u001b[0m \u001b[0mperiods\u001b[0m \u001b[0;32min\u001b[0m \u001b[0mresponse\u001b[0m\u001b[0;34m:\u001b[0m  \u001b[0;31m# place is a list\u001b[0m\u001b[0;34m\u001b[0m\u001b[0;34m\u001b[0m\u001b[0m\n\u001b[0;32m---> 18\u001b[0;31m     \u001b[0mprint\u001b[0m\u001b[0;34m(\u001b[0m\u001b[0;34mf'{periods[\"name\"]} {periods[\"state\"]}'\u001b[0m\u001b[0;34m)\u001b[0m\u001b[0;34m\u001b[0m\u001b[0;34m\u001b[0m\u001b[0m\n\u001b[0m",
      "\u001b[0;31mTypeError\u001b[0m: byte indices must be integers or slices, not str"
     ]
    }
   ],
   "source": [
    "import requests\n",
    "\n",
    "url = \"https://aerisweather1.p.rapidapi.com/forecasts/92127\"\n",
    "\n",
    "headers = {\n",
    "\t\"X-RapidAPI-Key\": \"686830ba27msh513db9752c312c4p1115d7jsn310f307263ee\",\n",
    "\t\"X-RapidAPI-Host\": \"aerisweather1.p.rapidapi.com\"\n",
    "}\n",
    "\n",
    "response = requests.request(\"GET\", url, headers=headers)\n",
    "\n",
    "# print(response.text)\n",
    "\n",
    "json = response.json()\n",
    "\n",
    "loc = response.json().get('place')\n",
    "for periods in response:  # place is a list\n",
    "    print(f'{periods[\"name\"]} {periods[\"state\"]}')"
   ]
  },
  {
   "cell_type": "code",
   "execution_count": 13,
   "metadata": {},
   "outputs": [
    {
     "name": "stdout",
     "output_type": "stream",
     "text": [
      "home_team Heerenveen\n",
      "away_team PSV Eindhoven\n",
      "id 219492\n",
      "market classic\n",
      "competition_name Eredivisie\n",
      "prediction 2\n",
      "competition_cluster Netherlands\n",
      "status won\n",
      "federation UEFA\n",
      "is_expired True\n",
      "season 2022 - 2023\n",
      "result 0 - 1\n",
      "start_date 2022-10-09T15:45:00\n",
      "last_update_at 2022-10-09T14:11:45.119363\n",
      "odds {'1': 5.421, 'X': 4.333, '2': 1.551, '1X': 2.366, 'X2': 1.143, '12': 1.206}\n"
     ]
    }
   ],
   "source": [
    "import requests\n",
    "\n",
    "url = \"https://football-prediction-api.p.rapidapi.com/api/v2/predictions\"\n",
    "\n",
    "querystring = {\"market\":\"classic\",\"iso_date\":\"2022-10-09\",\"federation\":\"UEFA\"} # the date, match type, and competition\n",
    "\n",
    "headers = {\n",
    "\t\"X-RapidAPI-Key\": \"686830ba27msh513db9752c312c4p1115d7jsn310f307263ee\",\n",
    "\t\"X-RapidAPI-Host\": \"football-prediction-api.p.rapidapi.com\"\n",
    "}\n",
    "\n",
    "response = requests.request(\"GET\", url, headers=headers, params=querystring)\n",
    "\n",
    "# print(response.text)\n",
    "\n",
    "\n",
    "teams = response.json().get('data') # set teams equal data\n",
    "for team in teams:  # teams is a list above\n",
    "    if team[\"away_team\"] == \"PSV Eindhoven\":  # this filters for games by PSV\n",
    "        for key, value in team.items():  # this finds key, value pairs in in this game by PSV\n",
    "            print(key, value)\n",
    "\n",
    "\n"
   ]
  }
 ],
 "metadata": {
  "kernelspec": {
   "display_name": "Python 3.7.3 64-bit",
   "language": "python",
   "name": "python3"
  },
  "language_info": {
   "codemirror_mode": {
    "name": "ipython",
    "version": 3
   },
   "file_extension": ".py",
   "mimetype": "text/x-python",
   "name": "python",
   "nbconvert_exporter": "python",
   "pygments_lexer": "ipython3",
   "version": "3.7.3"
  },
  "orig_nbformat": 4,
  "vscode": {
   "interpreter": {
    "hash": "aee8b7b246df8f9039afb4144a1f6fd8d2ca17a180786b69acc140d282b71a49"
   }
  }
 },
 "nbformat": 4,
 "nbformat_minor": 2
}
