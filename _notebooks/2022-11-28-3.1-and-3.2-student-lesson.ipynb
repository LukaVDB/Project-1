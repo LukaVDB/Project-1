{
 "cells": [
  {
   "attachments": {},
   "cell_type": "markdown",
   "metadata": {},
   "source": [
    "# 3.1 and 3.2 student lesson\n",
    "- toc: true\n",
    "- badges: true\n",
    "- comments: true\n",
    "- categories: [jupyter, python, Student Lesson]"
   ]
  },
  {
   "cell_type": "markdown",
   "metadata": {},
   "source": [
    "# Notes from slide\n",
    "## Essential Knowledge (College Board's Must Knows):\n",
    " * A variable is an abstraction inside a program that holds a value, where each variable has associated data storage that represents a single value at a time (However, if the value is a collection type such as a list, then the value can contain multiple values).\n",
    " * Variables typically have meaningful names that helps with the overall organization of the code and understanding of what is being represented by the variables\n",
    " * Some programming languages provide a variety of methods to represent data, which are referenced using variables 9Booleans, numbers, lists, and strings)\n",
    " * One form of a value is better suited for representation than antoher.\n",
    "\n",
    "## What is a Variable?\n",
    "\n",
    "A variable is an abstraction made inside a program that holds a value. These variables are used in code to refer to more comples values that the variable contains and makes the program code more organized and smoother to run.\n",
    "\n",
    "Variables can be seen as \"containers\" and each container has a name that holds what it is supposed to hold.\n",
    "In the following code, we can see that a variable has the value of \"Alex.\" How can we make the variable appear more organized in the code?"
   ]
  },
  {
   "cell_type": "markdown",
   "metadata": {},
   "source": [
    "Questions (College Board's Essential Knowledge):\n",
    "1. What exactly IS a variable?\n",
    "- A variable is a abstraction in a program that holds a value. These are used to make programs run faster. \n",
    "2. What is the best data type to represent someone's dog's name?\n",
    "- A string\n",
    "3. Why is it important to give variables specific names before containing values?\n",
    "- So you can use them later in the program. \n",
    "4. What is the best way to represent someone's phone number?\n",
    "- A string\n"
   ]
  },
  {
   "cell_type": "markdown",
   "metadata": {},
   "source": [
    "## Hacks: \n",
    "Answer these:\n",
    "1. In your **own** words, briefly explain by writing down what an assignment operator is\n",
    "- A assignment operator defines a variable. \n",
    "2. In Collegeboard pseudocode, what symbol is used to assign values to variables?\n",
    "- <\n",
    "1. A variable, x, is initially given a value of 15. Later on, the value for x is changed to 22. If you print x, would the command display 15 or 22?\n",
    "- It would display 22"
   ]
  },
  {
   "cell_type": "markdown",
   "metadata": {},
   "source": [
    "## Questions\n",
    "* What is a list?\n",
    "Multiple variables defined in a simple way\n",
    "* What is an element\n",
    "Items inside the list\n",
    "* What is an easy way to reference the elements in a list or string?\n",
    "print\n",
    "* What is an example of a string?\n",
    "- A list of numbers\n",
    "\n",
    "\n",
    "## Hacks\n",
    "* Create a list with indices \n",
    "* Index a part of the list that you created.\n",
    "* Try to index from the end "
   ]
  },
  {
   "cell_type": "code",
   "execution_count": 1,
   "metadata": {},
   "outputs": [
    {
     "name": "stdout",
     "output_type": "stream",
     "text": [
      "Blue\n"
     ]
    }
   ],
   "source": [
    "colors = [\"Yellow\", \"Green\", \"Blue\"]\n",
    "print(colors[2])"
   ]
  },
  {
   "cell_type": "code",
   "execution_count": 2,
   "metadata": {},
   "outputs": [
    {
     "name": "stdout",
     "output_type": "stream",
     "text": [
      "User submitted numbers [1, 2, 3]\n",
      "Plus 3\n",
      "[4, 5, 6]\n"
     ]
    }
   ],
   "source": [
    "num1=input(\"Input a number.\")\n",
    "num2=input(\"Input a number.\")\n",
    "num3=input(\"Input a number.\")\n",
    "add=input(\"Input a number.\")\n",
    "\n",
    "# Add code in the space below\n",
    "numlist = [int(num1), int(num2), int(num3)]\n",
    "print(\"User submitted numbers\", numlist)\n",
    "print(\"Plus \" + add)\n",
    "\n",
    "\n",
    "# The following is the code that adds the inputted addend to the other numbers. It is hidden from the user.\n",
    "\n",
    "for i in numlist:\n",
    "    numlist[i -1] += int(add)\n",
    "\n",
    "print(numlist)"
   ]
  },
  {
   "cell_type": "code",
   "execution_count": 5,
   "metadata": {},
   "outputs": [
    {
     "name": "stdout",
     "output_type": "stream",
     "text": [
      "Hello, lukavandenboomen running /Users/lukavandenboomen/opt/anaconda3/bin/python\n",
      "You will be asked 4 questions.\n",
      "Question: Are you ready to take a test?\n",
      "Question: The purpose of lists and dictionaries are to manage the ____ of a program\n",
      "Complexity is incorrect!\n",
      "Question: Lists are a form of data ______\n",
      "Abstraction is incorrect!\n",
      "Question: Which brackets are used to assign values to a variable to make a list?\n",
      "[] is correct!\n",
      "lukavandenboomen you scored 1/4\n"
     ]
    }
   ],
   "source": [
    "import getpass, sys\n",
    "\n",
    "def question_with_response(prompt):\n",
    "    print(\"Question: \" + prompt)\n",
    "    msg = input()\n",
    "    return msg\n",
    "\n",
    "questions = 4\n",
    "correct = 0\n",
    "\n",
    "print('Hello, ' + getpass.getuser() + \" running \" + sys.executable)\n",
    "print(\"You will be asked \" + str(questions) + \" questions.\")\n",
    "question_with_response(\"Are you ready to take a test?\")\n",
    "\n",
    "rsp = question_with_response(\"The purpose of lists and dictionaries are to manage the ____ of a program\")\n",
    "if rsp == \"complexity\":\n",
    "    print(rsp + \" is correct!\")\n",
    "    correct += 1\n",
    "else:\n",
    "    print(rsp + \" is incorrect!\")\n",
    "\n",
    "rsp = question_with_response(\"Lists are a form of data ______\")\n",
    "if rsp == \"abstraction\":\n",
    "    print(rsp + \" is correct!\")\n",
    "    correct += 1\n",
    "else:\n",
    "    print(rsp + \" is incorrect!\")\n",
    "\n",
    "rsp = question_with_response(\"Which brackets are used to assign values to a variable to make a list?\")\n",
    "if rsp == \"[]\":\n",
    "    print(rsp + \" is correct!\")\n",
    "    correct += 1\n",
    "else:\n",
    "    print(rsp + \" is incorrect!\") \n",
    "\n",
    "print(getpass.getuser() + \" you scored \" + str(correct) +\"/\" + str(questions))"
   ]
  }
 ],
 "metadata": {
  "kernelspec": {
   "display_name": "Python 3.9.12 ('base')",
   "language": "python",
   "name": "python3"
  },
  "language_info": {
   "codemirror_mode": {
    "name": "ipython",
    "version": 3
   },
   "file_extension": ".py",
   "mimetype": "text/x-python",
   "name": "python",
   "nbconvert_exporter": "python",
   "pygments_lexer": "ipython3",
   "version": "3.9.12 (main, Apr  5 2022, 01:53:17) \n[Clang 12.0.0 ]"
  },
  "orig_nbformat": 4,
  "vscode": {
   "interpreter": {
    "hash": "647057b329c0d9024bd3a0786c24b4b9bd47f70804056596a3b82b98cd707b5b"
   }
  }
 },
 "nbformat": 4,
 "nbformat_minor": 2
}
