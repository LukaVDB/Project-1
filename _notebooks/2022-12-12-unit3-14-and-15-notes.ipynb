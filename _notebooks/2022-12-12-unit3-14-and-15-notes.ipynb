{
 "cells": [
  {
   "attachments": {},
   "cell_type": "markdown",
   "metadata": {},
   "source": [
    "# Unit 3 Sections 14 and 15 notes\n",
    " \n",
    "- title: Unit 3 Sections 14 and 15 notes\n",
    "- toc: true\n",
    "- categories: [Student Lesson Hacks]\n"
   ]
  },
  {
   "attachments": {},
   "cell_type": "markdown",
   "metadata": {},
   "source": [
    "## What do we need to know?\n",
    "\n",
    "**Learning Objective**\n",
    " \n",
    "To be able to select appropriate libraries and/or existing code to use in the creation of new programs.\n",
    "\n",
    "\n",
    "**College Board Essential Knowledge**\n",
    " \n",
    "- A software library contains procedures that can be used in the creation of new programs.\n",
    "- Existing segments of code can come from internal or external sources, ie. libraries or previously written code.\n",
    "- The use of libraries simplifies the task of creating complex programs.\n",
    "- Application program interfaces (APIs) are specifications for how the procedures in a library behave and can be used.\n",
    "- Documentation for a library or API is necessary in understanding the key behaviors provided by the API/library and how to utilize them in your work.\n",
    "\n",
    "\n",
    "\n",
    "**Defining a Library**\n",
    "\n",
    "- A library is a collection of code from an external source that can be used to add functionality to a program.\n",
    "- Libraries are very useful, as they can be used to save time and effort in the development process.\n",
    "- Libraries are usually included in a program using a special keyword called \" .\" This keyword tells the program to look for the library and use its code.\n",
    "\n",
    "\n",
    "\n",
    "\n",
    "\n",
    "##### What is randomization?\n",
    "1) Randomization generates a value between two numbers. For example RANDOM(1,3) may result as 1 or 2 or 3, either one of those.\n",
    "\n",
    "2) Now if we look into our day to day life we can see that randomization is all around us. \n",
    "\n",
    "3) In order to use the random function we have to first import random at the very beginning.\n"
   ]
  },
  {
   "attachments": {},
   "cell_type": "markdown",
   "metadata": {},
   "source": [
    "- What is a library?\n",
    "- A library is a collection of external sources that can be pulled in.\n",
    "\n",
    "## Hacks 1"
   ]
  },
  {
   "cell_type": "code",
   "execution_count": 54,
   "metadata": {},
   "outputs": [
    {
     "name": "stdout",
     "output_type": "stream",
     "text": [
      "86\n"
     ]
    }
   ],
   "source": [
    "\n",
    "import random\n",
    "\n",
    "result = random.randint(0,100)\n",
    "\n",
    "print(result)\n"
   ]
  },
  {
   "attachments": {},
   "cell_type": "markdown",
   "metadata": {},
   "source": [
    "- This code imports the random library, then I tell it to get a number between 0 and 100. Then to print the result. "
   ]
  },
  {
   "attachments": {},
   "cell_type": "markdown",
   "metadata": {},
   "source": [
    "## Hacks 2\n",
    "- The import random fonction imports the random python library which allows you to get a random number. \n",
    "- Another thing taht you can import is flask, my own stuff, and SQL Alchemy. "
   ]
  },
  {
   "cell_type": "code",
   "execution_count": 15,
   "metadata": {},
   "outputs": [
    {
     "data": {
      "text/plain": [
       "11.313708498984761"
      ]
     },
     "execution_count": 15,
     "metadata": {},
     "output_type": "execute_result"
    }
   ],
   "source": [
    "import math\n",
    "\n",
    "\n",
    "math.sqrt(128)"
   ]
  },
  {
   "attachments": {},
   "cell_type": "markdown",
   "metadata": {},
   "source": [
    "## Hacks 3\n",
    "- There is a spinner divided into eight equal parts. 3 parts of the spinner are green, two parts are blue, one part is purple, one part is red, and one part is orange. How can you simulate this situation using a random number generator.\n",
    " \n",
    "- Also answer this question: What numbers can be outputted from RANDOM(12,20) and what numbers are excluded?"
   ]
  },
  {
   "cell_type": "code",
   "execution_count": 14,
   "metadata": {},
   "outputs": [
    {
     "name": "stdout",
     "output_type": "stream",
     "text": [
      "blue\n"
     ]
    }
   ],
   "source": [
    "import random\n",
    "\n",
    "color = random.randint(1,8)\n",
    "\n",
    "\n",
    "if color == (1):\n",
    "    print(\"green\")\n",
    "if color == (2):\n",
    "    print(\"green\")\n",
    "if color == (3):\n",
    "    print(\"green\")\n",
    "if color == (4):\n",
    "    print(\"blue\")\n",
    "if color == (5):\n",
    "    print(\"blue\")\n",
    "if color == (6):\n",
    "    print(\"purple\")\n",
    "if color == (7):\n",
    "    print(\"red\")\n",
    "if color == (8):\n",
    "    print(\"orange\")\n"
   ]
  },
  {
   "attachments": {},
   "cell_type": "markdown",
   "metadata": {},
   "source": [
    "The numbers that can be outputted from (12, 20) are the numbers between 12 and 20. 12 and 20 will also work. The numbers excluded from this would be any number that is not between 12 and 20. "
   ]
  }
 ],
 "metadata": {
  "kernelspec": {
   "display_name": "base",
   "language": "python",
   "name": "python3"
  },
  "language_info": {
   "codemirror_mode": {
    "name": "ipython",
    "version": 3
   },
   "file_extension": ".py",
   "mimetype": "text/x-python",
   "name": "python",
   "nbconvert_exporter": "python",
   "pygments_lexer": "ipython3",
   "version": "3.9.12 (main, Apr  5 2022, 01:53:17) \n[Clang 12.0.0 ]"
  },
  "orig_nbformat": 4,
  "vscode": {
   "interpreter": {
    "hash": "647057b329c0d9024bd3a0786c24b4b9bd47f70804056596a3b82b98cd707b5b"
   }
  }
 },
 "nbformat": 4,
 "nbformat_minor": 2
}
