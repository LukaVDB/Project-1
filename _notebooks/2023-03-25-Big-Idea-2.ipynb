{
 "cells": [
  {
   "attachments": {},
   "cell_type": "markdown",
   "metadata": {},
   "source": [
    "#  Big Idea 2\n",
    "- toc: true\n",
    "- categories: []\n",
    "- type: ap\n",
    "- week: 27"
   ]
  },
  {
   "attachments": {},
   "cell_type": "markdown",
   "metadata": {},
   "source": [
    "## Score\n",
    "![ImageFour](../images/ScreenShot2023-03-26at10.17.45PM.png)\n",
    "22/25"
   ]
  },
  {
   "attachments": {},
   "cell_type": "markdown",
   "metadata": {},
   "source": [
    "## Q17\n",
    "![ImageFour](../images/ScreenShot2023-03-26at10.20.18PM.png)\n",
    "\n",
    "- The correct answer is :The total number of items purchased on a given date can be determined by searching the data for all transactions that occurred on the given date and then adding the number of items purchased for each matching transaction.\n",
    "\n",
    "- This is the correct answer because for each transaction, the data includes the date of the transaction and the number of items purchased in the transaction. By searching the data to find all transactions that occurred on the given date, and then adding the number of items purchased in each of those transactions, the total number of items purchased on a given date can be determined.\n"
   ]
  },
  {
   "attachments": {},
   "cell_type": "markdown",
   "metadata": {},
   "source": [
    "## Q21\n",
    "![ImageFour](../images/ScreenShot2023-03-26at10.22.49PM.png)\n",
    "\n",
    "\n",
    "- The correct answers are: Filter by photographer, then filter by year, then sort by year and Sort by year, then filter by year, then filter by photographer.\n",
    "\n",
    "D is the correct answer because Sorting by year will sort the spreadsheet on column C from least to greatest. Filtering by year will remove any entries with unknown years. Filtering by photographer will remove any entries with unknown photographers. Since the order of the entries is not affected by the filters, the photograph with the lowest year value will be in the first row of the spreadsheet.\n"
   ]
  },
  {
   "attachments": {},
   "cell_type": "markdown",
   "metadata": {},
   "source": [
    "## Q22\n",
    "![ImageFour](../images/ScreenShot2023-03-26at10.24.00PM.png)\n",
    "\n",
    "- The correct answer is: Both databases are needed. Each database can be searched by animal name to find all information to be displayed.\n",
    "\n",
    "- This is correct because the information to be displayed comes from both databases. The animal name can be used search the first database to find the classification, skin type, and thermoregulation information. The animal name can be used search the second database to find the lifestyle, average life span, and top speed information.\n"
   ]
  }
 ],
 "metadata": {
  "language_info": {
   "name": "python"
  },
  "orig_nbformat": 4
 },
 "nbformat": 4,
 "nbformat_minor": 2
}
