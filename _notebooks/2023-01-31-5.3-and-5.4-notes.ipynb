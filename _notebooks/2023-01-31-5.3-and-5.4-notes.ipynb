{
 "cells": [
  {
   "attachments": {},
   "cell_type": "markdown",
   "metadata": {},
   "source": [
    "# 5.3 and 5.4 Blog\n",
    "\n",
    "- title: 5.3 and 5.4 Blog\n",
    "- toc: true\n",
    "- categories: []"
   ]
  },
  {
   "cell_type": "code",
   "execution_count": null,
   "metadata": {},
   "outputs": [],
   "source": []
  },
  {
   "cell_type": "code",
   "execution_count": null,
   "metadata": {},
   "outputs": [],
   "source": []
  },
  {
   "attachments": {},
   "cell_type": "markdown",
   "metadata": {},
   "source": [
    "## 5.3 Computer Bias\n",
    "\n",
    "### Intentional or purposeful bias\n",
    "**Google “What age groups use Facebook” vs “… TikTok”? What does the data say? Is there purposeful exclusion in these platforms? Is it harmful? Should it be corrected? Is it good business?**\n",
    "- Facebook is more oriented towards the older generation. This is because that when facebook came out, it was for a younger age group but they grew older while still using the platform causing its age group to also increase. \n",
    "- Tik tok is now also targeted to the younger generation like how Facebook was originally. \n",
    "- This is good bushiness for the companies because they keep their same group of users over time. \n",
    "\n",
    "**Why do virtual assistants have female voices? Amazon, Alexa Google, Apple Siri. Was this purposeful? Is it harmful? Should it be corrected? Is it good business?**\n",
    "- Virtual assistants have a female voice because females are usually thought to be softer and easier to understand than male voices. I think that this is purposeful because all of these big companies have female voices since they must have some type of benefit in their business. \n",
    "\n",
    "**Algorithms that influence our lives.**\n",
    "- The algorithm that influences our lives is causing us to get more and more addicted to the platforms that we are using. Once they learn what we like to see on our social media platforms, they will keep showing these things to keep us engaged. \n",
    "\n",
    "### HP Computers\n",
    "\n",
    "**Does the owner of the computer think this was intentional?**\n",
    "The owner of this computer does not think that this was intentional \n",
    "\n",
    "\n",
    "**How do you think this happened?**\n",
    "- They did not test their product on a variety of users and only used it on workers that worked directly with this machine. \n",
    "\n",
    "**Is this harmful? Was it intended to be harmful or excluded?**\n",
    "It is not harmful to people but it does limit and exclude different groups of people.\n",
    "\n",
    "**Should it be corrected?**\n",
    "- - Yes, it should be corrected because it prevents certain people from using their product even though they had purchased it.\n",
    "\n",
    "**What would you or should you do to produce a better outcome?**\n",
    "- I would include more testing of different kinds of people.\n",
    "\n"
   ]
  },
  {
   "attachments": {},
   "cell_type": "markdown",
   "metadata": {},
   "source": [
    "### 5.3 Hacks\n",
    "\n",
    "**Some of the ways that these age groups are getting older is because the user base is also getting older. For example, when facebook started to get popular it was advertised to people who were attending college. These people would continuously use facebook throughout their lives so facebook would keep targeting this age group who was getting older. This older age group would then prevent the newer generation from getting facebook because they are not their main audience and the age gap did not interests the youth. These youth would then be more interisted in other platforms that are targeted to them like Tik Tok."
   ]
  },
  {
   "attachments": {},
   "cell_type": "markdown",
   "metadata": {},
   "source": [
    "## 5.4 Crowd sourcing\n",
    "\n",
    "\n",
    "**We have all experienced Crowdsourcing by using external data through API’s, namely RapidAPI. This data has influenced how we code and shown possibilities in obtaining and analyzing data. Discuss APIs you have used.**\n",
    "- Some of the API’s that I have used is google translate and worldwide clocks to allow us to see time zones around the world.\n",
    "\n",
    "**We have all participated in code Crowdsourcing by using GitHub. Many of you have forked from the Teacher repository, or exchanged code with fellow students. Not only can we analyze GitHub code, but we can obtain profiles and history about the persons coding history. What is the biggest discovery you have found in GitHub?**\n",
    "- You can edit your vsode and your repository in your own browser.\n",
    "\n",
    "**Kaggle datasets for code and science exploration. The avenue of data points us youtube or netflix channels. Analyzing crowd data helps us make decisions. Exam top 10 to 20. Did you see anything interesting?**\n",
    "- I feel like that the databases I saw were very random, some were blood cancer related and cars related. \n"
   ]
  },
  {
   "attachments": {},
   "cell_type": "markdown",
   "metadata": {},
   "source": [
    "## 5.4 Hacks\n",
    "**Think of a use case for crowd sourcing in you project**\n",
    "\n",
    "\n",
    "**CompSci has 150 ish principles students. Describe a crowd source idea and how you might initiate it in our environment?**\n",
    "- One idea of crowd sourcing the computer science principle students is scores that they would get in the game on our site. At Night at the museum we would have the students play our game so we could collect data there. \n",
    "\n",
    "**What about Del Norte crowd sourcing? Could your project be better with crowd sourcing?**\n",
    "Our project could help students across our school be recommend different stocks based on their preferences. \n",
    "\n",
    "**What kind of data could you capture at N@tM to make evening interesting? Perhaps use this data to impress Teachers during finals week.**\n",
    "We could get data from students scores of teh game that they would play. "
   ]
  }
 ],
 "metadata": {
  "kernelspec": {
   "display_name": "base",
   "language": "python",
   "name": "python3"
  },
  "language_info": {
   "name": "python",
   "version": "3.9.12"
  },
  "orig_nbformat": 4,
  "vscode": {
   "interpreter": {
    "hash": "647057b329c0d9024bd3a0786c24b4b9bd47f70804056596a3b82b98cd707b5b"
   }
  }
 },
 "nbformat": 4,
 "nbformat_minor": 2
}
