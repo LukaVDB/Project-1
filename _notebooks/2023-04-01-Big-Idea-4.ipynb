{
 "cells": [
  {
   "attachments": {},
   "cell_type": "markdown",
   "metadata": {},
   "source": [
    "#  Big Idea 4 Quiz\n",
    "- toc: true\n",
    "- categories: []\n",
    "- week: 28"
   ]
  },
  {
   "attachments": {},
   "cell_type": "markdown",
   "metadata": {},
   "source": [
    "\n",
    "\n",
    "## Score\n",
    "![ImageFour](../images/ScreenShot2023-04-03at9.53.13AM.png)\n",
    "47/50"
   ]
  },
  {
   "attachments": {},
   "cell_type": "markdown",
   "metadata": {},
   "source": [
    "## Q2\n",
    "![ImageFour](../images/ScreenShot2023-04-03at9.55.12AM.png)\n",
    "\n",
    "- The correct answer is: The ability to provide data transmission even when some connections have failed. Because routers on the Internet are able to move packets through various paths to reach their final destination, even when some connections have failed. This characterizes the fault-tolerant nature of routing.\n"
   ]
  },
  {
   "attachments": {},
   "cell_type": "markdown",
   "metadata": {},
   "source": [
    "## Q26\n",
    "![ImageFour](../images/ScreenShot2023-04-03at9.57.06AM.png)\n",
    "\n",
    "- The correct answer is: There are trade-offs involved in choosing a compression technique for storing and transmitting data.\n"
   ]
  },
  {
   "attachments": {},
   "cell_type": "markdown",
   "metadata": {},
   "source": [
    "## Q38\n",
    "![ImageFour](../images/ScreenShot2023-04-03at9.58.33AM.png)\n",
    "\n",
    "- The correct answer is: Using a simulation may expose potential safety issues that can be corrected before construction begins. Because simulations are most useful when real-world events are impractical for experiments. Discovering and correcting potential safety issues using a simulation before the train route is constructed is much safer and less expensive than discovering them after the train route has been constructed.\n"
   ]
  }
 ],
 "metadata": {
  "language_info": {
   "name": "python"
  },
  "orig_nbformat": 4
 },
 "nbformat": 4,
 "nbformat_minor": 2
}
