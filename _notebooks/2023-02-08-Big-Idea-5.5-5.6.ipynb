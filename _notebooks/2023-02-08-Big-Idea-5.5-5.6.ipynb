{
 "cells": [
  {
   "attachments": {},
   "cell_type": "markdown",
   "metadata": {},
   "source": [
    "# 5.5 and 5.6 Blog\n",
    "\n",
    "- title: 5.5 and 5.6 Blog\n",
    "\n",
    "- categories: []"
   ]
  },
  {
   "attachments": {},
   "cell_type": "markdown",
   "metadata": {},
   "source": [
    "## 5.5 Legal licensing and Ethical Concerns\n",
    "### Cost of Free\n",
    "- Open source allows you to use it freely. \n",
    "- Qualcomm wants royalty on their products. \n",
    "\n",
    "\n",
    "# Blog Post Reflection\n",
    "1. When you create a GitHub repository it requests a license type. Review the license types in relationship to this Tech Talk and make some notes in your personal blog.\n",
    "- In the license file, it talks about the distribution, use and reproduction of this license. It allows you to make modifications, cannot modify the license, give credit. \n",
    "2. In your blog, summarize the discussions and personal analysis on Software Licenses/Options, Digital Rights, and other Legal and Ethical thoughts from this College Board topic.\n",
    "- It is good to have credit to the owner but it would also prevent creativity because whenever someone has an idea but it is copyrighted, they cannot produce the good idea that they have. \n",
    "3. Make a license for your personal (blog) and Team repositories for the CPT project. Be sure to have a license for both Team GitHub repositories (frontend/backend). Document license(s) you picked and why. FYI, frontend, since it is built on GitHub pages may come with a license and restrictions. Document in blog how team made license choice and process of update.\n",
    "- I want to make an opensource project that allows users to use our project and hopefully improve the work that we have done. \n"
   ]
  },
  {
   "attachments": {},
   "cell_type": "markdown",
   "metadata": {},
   "source": [
    "## 5.6 Safe Computing\n",
    "- **Consider using an separate junk email so that you are not giving out your information**\n",
    "\n",
    "- Things known to others: Name, email, picture, school, state residence\n",
    "\n",
    "- Gray area: Birth date, place of birth, street address, phone number, driver license number\n",
    "\n",
    "- Keep secret: Credentials for access, Tw-factor Authentication onn financial accounts, social security number, tax records"
   ]
  },
  {
   "attachments": {},
   "cell_type": "markdown",
   "metadata": {},
   "source": [
    "### Ways that they could trick you\n",
    "- Malware, (makes you install a bad virus)\n",
    "- Phishing, (Try to get you to respond so that you give them information)\n",
    "\n",
    "### Ways to increase your security\n",
    "- Multi factor authentications- Email or text code\n",
    "- Biometric- Fingerprint or facial recognition\n",
    "- Symmetric- Use of a key\n",
    "- Asymmetric cryptography- One public and one private key"
   ]
  },
  {
   "attachments": {},
   "cell_type": "markdown",
   "metadata": {},
   "source": [
    "## Blog Post Reflection\n",
    "1. Describe a PII you have seen on a project\n",
    "- We needed to input a public and private key when we first set up out fast pages at the start of the trimester\n",
    "2. What are your feelings about PII and your personal exposure?\n",
    "- I think that I might have possible already put in my information into different applications and that I need to start changing this habit. \n",
    "3. Describe good and bad passwords.\n",
    "- Good passwords are the ones that have combination of characters. Bad passwords are the simple ones like 1234, or the ones that have personnel information, like your birthday. You could connect your email for two factor authentication. \n",
    "4. Describe symmetric and asymmetric encryption. \n",
    "- In symmetric- you get a key that usually changes once in a while, this code can ben used to log into your account. In asymmetric, there is a private key and public key, like the one that was used to set up the fastpages. \n",
    "5. Example of encryption in AWS deployment. \n",
    "- We needed to encrypt our key that we used to set up our AWS deployment. \n",
    "6. Describe a phishing scheme you learned about the hard way. \n",
    "- There are lots of email that I get that are fake like you won an ipad, I haven't clicked on these emails, but I could imagine them trying to steal the users information. \n"
   ]
  }
 ],
 "metadata": {
  "kernelspec": {
   "display_name": "base",
   "language": "python",
   "name": "python3"
  },
  "language_info": {
   "name": "python",
   "version": "3.9.12"
  },
  "orig_nbformat": 4,
  "vscode": {
   "interpreter": {
    "hash": "647057b329c0d9024bd3a0786c24b4b9bd47f70804056596a3b82b98cd707b5b"
   }
  }
 },
 "nbformat": 4,
 "nbformat_minor": 2
}
