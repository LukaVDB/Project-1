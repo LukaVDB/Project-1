{
 "cells": [
  {
   "attachments": {},
   "cell_type": "markdown",
   "metadata": {},
   "source": [
    "#  2020 Practice Exam 1 MCQ\n",
    "- toc: true\n",
    "- categories: []\n",
    "- week: 28"
   ]
  },
  {
   "attachments": {},
   "cell_type": "markdown",
   "metadata": {},
   "source": [
    "\n",
    "![ImageFour](../images/ScreenShot2023-04-30at10.49.57PM.png)\n",
    "62/67\n",
    "92.5%"
   ]
  },
  {
   "attachments": {},
   "cell_type": "markdown",
   "metadata": {},
   "source": [
    "## Q27\n",
    "![ImageFour](../images/ScreenShot2023-04-30at10.55.38PM.png)\n",
    "\n",
    "- The correct answer is: There exist some problems that cannot be solved using any algorithm because it can be proved that there exist some problems that cannot be solved with any algorithm. These problems cannot be solved computationally."
   ]
  },
  {
   "attachments": {},
   "cell_type": "markdown",
   "metadata": {},
   "source": [
    "## Q53\n",
    "![ImageFour](../images/ScreenShot2023-04-30at11.03.46PM.png)\n",
    "\n",
    "- The correct answer is: A mobile application that allows users to report the location of a pet that appears to be lost and upload a photo that is made available to other users of the application because this system uses an application to enlist the services of a large number of people to help find a lost pet."
   ]
  },
  {
   "attachments": {},
   "cell_type": "markdown",
   "metadata": {},
   "source": [
    "## Q59\n",
    "![ImageFour](../images/ScreenShot2023-04-30at11.07.37PM.png)\n",
    "\n",
    "- The correct answer is: The original developer of open-source software provides free or low-cost support for users installing and running the software because open-source software has source code that is released under a license that allows users the rights to use and distribute it. However, there is no guarantee that the original developer of open-source software will provide support for its users."
   ]
  },
  {
   "attachments": {},
   "cell_type": "markdown",
   "metadata": {},
   "source": [
    "## Q62\n",
    "![ImageFour](../images/ScreenShot2023-04-30at11.09.41PM.png)\n",
    "\n",
    "- The correct answer is: if (x). display x or y. because since x is true, the body of the IF statement is executed. Since x OR y evaluates to true, true is displayed."
   ]
  },
  {
   "attachments": {},
   "cell_type": "markdown",
   "metadata": {},
   "source": [
    "## Q67\n",
    "![ImageFour](../images/ScreenShot2023-04-30at11.12.32PM.png)\n",
    "\n",
    "- The correct answer is: \n",
    "![ImageFour](../images/ScreenShot2023-04-30at11.13.09PM.png)\n",
    "because for this code segment, count is increased to 1 the first time \"birch\" is encountered in the list. However, count is reset to 0 when the code segment moves to the next list element. The last time \"birch\" is encountered in the list, count is again increased to 1, causing the procedure to return 1 instead of the intended result 2."
   ]
  }
 ],
 "metadata": {
  "language_info": {
   "name": "python"
  },
  "orig_nbformat": 4
 },
 "nbformat": 4,
 "nbformat_minor": 2
}
