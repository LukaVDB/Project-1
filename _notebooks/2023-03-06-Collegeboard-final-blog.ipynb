{
 "cells": [
  {
   "attachments": {},
   "cell_type": "markdown",
   "metadata": {},
   "source": [
    "#  Collegeboard Final Blog\n",
    "> Blog on collegeboard final and corrections. \n",
    "- toc: true\n",
    "- categories: []\n",
    "- week: 25"
   ]
  },
  {
   "attachments": {},
   "cell_type": "markdown",
   "metadata": {},
   "source": [
    "Total score 44/50\n",
    "\n",
    "![ImageOne](../images/ScreenShot2023-03-08at11.03.00AM.png)\n",
    "\n",
    "\n"
   ]
  },
  {
   "attachments": {},
   "cell_type": "markdown",
   "metadata": {},
   "source": [
    "## Question 2\n",
    "![ImageTwo](../images/ScreenShot2023-03-08at11.01.12AM.png)\n",
    "\n",
    "The correct answer is a group of cookies stored by the user's Web browser because the cookies that are stored by the user and can be used to track the users that visit the site. Used to collect user information. "
   ]
  },
  {
   "attachments": {},
   "cell_type": "markdown",
   "metadata": {},
   "source": [
    "## Question 14\n",
    "![ImageThree](../images/ScreenShot2023-03-08at11.07.21AM.png)\n",
    "\n",
    "The correct answer is purchasing a single-user copy of photo editing software and installing it on all the computers in a computer lab because single user copy software is meant for only one person not multiple people which can be used by various people that did not purchase the software. "
   ]
  },
  {
   "attachments": {},
   "cell_type": "markdown",
   "metadata": {},
   "source": [
    "## Question 15\n",
    "![ImageFour](../images/ScreenShot2023-03-08at11.13.27AM.png)\n",
    "\n",
    "Putting all government forms on the city website is the correct answer because it still would not allow for people to access the site when they don't have access to the internet. "
   ]
  },
  {
   "attachments": {},
   "cell_type": "markdown",
   "metadata": {},
   "source": [
    "## Question 21\n",
    "![ImageFour](../images/ScreenShot2023-03-08at11.25.01AM.png)\n",
    "\n",
    "\"The conclusion is incorrect; using the test case [0, 1, 4, 5] is not sufficient to conclude the program is correct.\" This is the correct answer because the variable sum is initialized to store the value of the first element of numList, and because the iteration block is a FOR EACH loop, the value of the first element is added to sum twice. Since the first element of the list is 0, adding this number to the sum does not affect the sum. A non-zero first element would give an incorrect result. In general, a single test case is not sufficient to confirm that a program works as intended."
   ]
  },
  {
   "attachments": {},
   "cell_type": "markdown",
   "metadata": {},
   "source": [
    "## Question 29\n",
    "![ImageFour](../images/ScreenShot2023-03-08at11.44.54AM.png)\n",
    "\n",
    "The fourth statement assigns the value of (NOT (a OR b)) AND c to a. Since a OR b is true, NOT (a OR b) is false, so (NOT (a OR b)) AND c is false. The fifth statement assigns the value of c AND a to c. Since a is now false, c AND a is false. The last three statements display the values of the variables."
   ]
  },
  {
   "attachments": {},
   "cell_type": "markdown",
   "metadata": {},
   "source": [
    "## Question 50\n",
    "![ImageSeven](../images/ScreenShot2023-03-08at1.50.50PM.png)\n",
    "\n",
    "Algorithm A is correct because the size of the list grows, the number of steps needed to sort the list grows at a linear rate, as the number of steps is equal to 10n for a list of size n. This is an example of a polynomial efficiency and indicates that the algorithm runs in a reasonable amount of time.\n",
    "\n",
    "Algorithm D is correct because The number of steps for this algorithm is equal to the length of the list squared, as the number of steps is equal to n2 for a list of size n. This is an example of a polynomial efficiency and indicates that the algorithm runs in a reasonable amount of time."
   ]
  }
 ],
 "metadata": {
  "language_info": {
   "name": "python"
  },
  "orig_nbformat": 4
 },
 "nbformat": 4,
 "nbformat_minor": 2
}
