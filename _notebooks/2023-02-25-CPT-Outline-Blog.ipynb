{
 "cells": [
  {
   "attachments": {},
   "cell_type": "markdown",
   "metadata": {},
   "source": [
    "# Collegeboard CPT\n",
    "\n",
    "- title: Collegeboard CPT\n",
    "\n",
    "- categories: []"
   ]
  },
  {
   "attachments": {},
   "cell_type": "markdown",
   "metadata": {},
   "source": [
    "## Program and Purpose\n",
    "- The purpose of this project is to inform users of the stock market and how it works. This would help them in the future or even now if they wanted to consider investing in the stock market. \n",
    "- One of the programs that I worked on was the the stock quiz, users would answer questions about different terms used in the stock market. Another feature I worked on is to allow users to input their own stock and a fun fact about it. \n"
   ]
  },
  {
   "attachments": {},
   "cell_type": "markdown",
   "metadata": {},
   "source": [
    "## Data abstraction\n",
    "- The first part of the data abstraction of the quiz is the questions. It gets the questions and the multiple choice options from the quiz to display for the user.\n",
    "- The backend data abstraction happens when it get the stock and fun fact from the database that holds the data from the user."
   ]
  },
  {
   "attachments": {},
   "cell_type": "markdown",
   "metadata": {},
   "source": [
    "![ImageOne](../images/ScreenShot2023-02-28at9.57.55AM.png)\n",
    "\n"
   ]
  },
  {
   "attachments": {},
   "cell_type": "markdown",
   "metadata": {},
   "source": [
    "## Managing complexity\n",
    "- Some ways that I manage complexity is implementing a shuffle questions function. This would prevent the user from memorizing where each of the answers are and really testing them on whether or not the users actually know the answer.\n",
    "\n",
    "\n",
    "![ImageTwo](../images/ScreenShot2023-02-28at10.08.01AM.png)\n"
   ]
  }
 ],
 "metadata": {
  "kernelspec": {
   "display_name": "base",
   "language": "python",
   "name": "python3"
  },
  "language_info": {
   "name": "python",
   "version": "3.9.12"
  },
  "orig_nbformat": 4,
  "vscode": {
   "interpreter": {
    "hash": "647057b329c0d9024bd3a0786c24b4b9bd47f70804056596a3b82b98cd707b5b"
   }
  }
 },
 "nbformat": 4,
 "nbformat_minor": 2
}
