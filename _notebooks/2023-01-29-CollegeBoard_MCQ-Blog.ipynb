{
 "cells": [
  {
   "attachments": {},
   "cell_type": "markdown",
   "metadata": {},
   "source": [
    "# CollegeBoard MCQ Blog\n",
    "\n",
    "- title: CollegeBoard MCQ Blog\n",
    "- toc: true\n",
    "- categories: []\n",
    "\n"
   ]
  },
  {
   "attachments": {},
   "cell_type": "markdown",
   "metadata": {},
   "source": [
    "# My score\n",
    "\n",
    "\n",
    "![ImageOne](../images/ScreenShot2023-01-30at8.52.59PM.png)"
   ]
  },
  {
   "attachments": {},
   "cell_type": "markdown",
   "metadata": {},
   "source": [
    "## Question 1\n",
    "\n",
    "![ImageTwo](../images/ScreenShot2023-01-30at8.56.01PM.png)\n",
    "\n",
    "\n",
    "\n",
    "This would be incorrect because in the second part of the function, z is not max because y is larger than z.\n"
   ]
  },
  {
   "attachments": {},
   "cell_type": "markdown",
   "metadata": {},
   "source": [
    "## Question 9\n",
    "\n",
    "![ImageThree](../images/ScreenShot2023-01-30at9.37.33PM.png)\n",
    "\n",
    "Because it needs to indec the numbers from 1 to n, the loop needs to stop at n."
   ]
  },
  {
   "attachments": {},
   "cell_type": "markdown",
   "metadata": {},
   "source": [
    "## Question 11\n",
    "\n",
    "![ImageFour](../images/ScreenShot2023-01-30at9.11.54PM.png)\n",
    "\n",
    "The value C is true, causing the value that comes out of the or function to not matter regardless of what it is."
   ]
  },
  {
   "attachments": {},
   "cell_type": "markdown",
   "metadata": {},
   "source": [
    "## Question 45\n",
    "\n",
    "![ImageFour](../images/ScreenShot2023-01-30at9.40.35PM.png)\n",
    "\n",
    "Using your heuristics would allow for faster solving. This is because when you use heuristics, you are using things that you already knew before hand. This would allow for you to know the answer when you see recognize the question. \n"
   ]
  },
  {
   "attachments": {},
   "cell_type": "markdown",
   "metadata": {},
   "source": [
    "## Question 49\n",
    "\n",
    "![ImageFive](../images/ScreenShot2023-01-30at9.28.58PM.png)\n",
    "\n",
    "There will always be problems that will never be able to be determined by an algorithm. An example of this is determining when a program will stop.\n"
   ]
  }
 ],
 "metadata": {
  "kernelspec": {
   "display_name": "base",
   "language": "python",
   "name": "python3"
  },
  "language_info": {
   "name": "python",
   "version": "3.9.12 (main, Apr  5 2022, 01:53:17) \n[Clang 12.0.0 ]"
  },
  "orig_nbformat": 4,
  "vscode": {
   "interpreter": {
    "hash": "647057b329c0d9024bd3a0786c24b4b9bd47f70804056596a3b82b98cd707b5b"
   }
  }
 },
 "nbformat": 4,
 "nbformat_minor": 2
}
