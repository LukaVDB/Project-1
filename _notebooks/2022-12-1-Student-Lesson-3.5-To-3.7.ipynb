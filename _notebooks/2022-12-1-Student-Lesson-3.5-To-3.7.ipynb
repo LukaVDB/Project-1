{
 "cells": [
  {
   "cell_type": "markdown",
   "metadata": {},
   "source": [
    "# 3.5-3.7 hacks\n",
    "##### the lesson plan for 3.5-3.7\n",
    "\n",
    "- title: 3.5 to 3.7 Hacks\n",
    "- toc: true"
   ]
  },
  {
   "cell_type": "markdown",
   "metadata": {},
   "source": [
    "# Hacks\n",
    "- What do logical operators do?\n",
    "- Logical operators help the user connect multiple selections in a selection"
   ]
  },
  {
   "cell_type": "markdown",
   "metadata": {},
   "source": [
    "# Logical operator\n",
    "Not: displays the opposite of what the data says. \n",
    "And: Checks if both conditions are met. \n",
    "Or: Checks both conditons but only one needs to be met. "
   ]
  },
  {
   "cell_type": "code",
   "execution_count": 1,
   "metadata": {},
   "outputs": [
    {
     "name": "stdout",
     "output_type": "stream",
     "text": [
      "True\n"
     ]
    }
   ],
   "source": [
    "isWeekend = False\n",
    "result = not(isWeekend)\n",
    "print(result)"
   ]
  },
  {
   "cell_type": "code",
   "execution_count": 4,
   "metadata": {},
   "outputs": [
    {
     "name": "stdout",
     "output_type": "stream",
     "text": [
      "You passed\n"
     ]
    }
   ],
   "source": [
    "score = 56\n",
    "\n",
    "# Has to be between 50 and 100\n",
    "\n",
    "if score > 50 and score <= 100:\n",
    "    print(\"You passed\")"
   ]
  },
  {
   "cell_type": "code",
   "execution_count": 5,
   "metadata": {},
   "outputs": [
    {
     "name": "stdout",
     "output_type": "stream",
     "text": [
      "Your team won!\n"
     ]
    }
   ],
   "source": [
    "distance = 3\n",
    "speed = 10\n",
    "if distance < 2 or speed > 4:\n",
    "   print(\"You won!\")"
   ]
  },
  {
   "cell_type": "markdown",
   "metadata": {},
   "source": [
    "### Key Terms\n",
    "- Selection: The specific block of code that will execute depending on the algorithm condition returning true or false.\n",
    "- Algorithm: \"A finite set of instructions that accomplish a specific task.\"\n",
    "- Conditional Statement / If-Statement: A statement that affects the sequence of control by executing certain statements depending on the value of a boolean."
   ]
  },
  {
   "cell_type": "code",
   "execution_count": 6,
   "metadata": {},
   "outputs": [
    {
     "name": "stdout",
     "output_type": "stream",
     "text": [
      "thats an odd number\n"
     ]
    }
   ],
   "source": [
    "\n",
    "x = int(input())\n",
    "\n",
    "if x % 2 == 0:\n",
    "      print(\"thats an even number\")\n",
    "else:\n",
    "    print(\"thats an odd number\")"
   ]
  },
  {
   "cell_type": "code",
   "execution_count": 7,
   "metadata": {},
   "outputs": [
    {
     "name": "stdout",
     "output_type": "stream",
     "text": [
      "are you going to school tommorow?\n",
      "great\n"
     ]
    }
   ],
   "source": [
    "print(\"are you going to school tommorow?\")\n",
    "reply = input(\"yes or no\")\n",
    "if reply == \"yes\":\n",
    "    print(\"great\")\n",
    "if reply == \"no\":\n",
    "    print(\"oh no\")"
   ]
  },
  {
   "cell_type": "code",
   "execution_count": 9,
   "metadata": {},
   "outputs": [
    {
     "name": "stdout",
     "output_type": "stream",
     "text": [
      "what quarter of the year are you in?\n",
      "Then its October, November or December\n"
     ]
    }
   ],
   "source": [
    "print(\"what quarter of the year are you in?\")\n",
    "reply = input(\"1, 2, 3 or 4\")\n",
    "if reply == \"1\":\n",
    "    print(\"Then its January, February or March\")\n",
    "if reply == \"2\":\n",
    "    print(\"Then its April, May or June\")\n",
    "if reply == \"3\":\n",
    "    print(\"Then its June, August or September\")\n",
    "if reply == \"4\":\n",
    "    print(\"Then its October, November or December\")"
   ]
  }
 ],
 "metadata": {
  "kernelspec": {
   "display_name": "Python 3.9.12 ('base')",
   "language": "python",
   "name": "python3"
  },
  "language_info": {
   "codemirror_mode": {
    "name": "ipython",
    "version": 3
   },
   "file_extension": ".py",
   "mimetype": "text/x-python",
   "name": "python",
   "nbconvert_exporter": "python",
   "pygments_lexer": "ipython3",
   "version": "3.9.12"
  },
  "orig_nbformat": 4,
  "vscode": {
   "interpreter": {
    "hash": "647057b329c0d9024bd3a0786c24b4b9bd47f70804056596a3b82b98cd707b5b"
   }
  }
 },
 "nbformat": 4,
 "nbformat_minor": 2
}
