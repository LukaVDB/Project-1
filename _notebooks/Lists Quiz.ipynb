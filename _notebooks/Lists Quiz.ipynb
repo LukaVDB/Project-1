{
 "cells": [
  {
   "cell_type": "markdown",
   "metadata": {},
   "source": [
    "# \"List Quiz\"\n",
    "\"List Quiz\"\n",
    " \n",
    "- toc:true\n",
    "- branch: master\n",
    "- badges: true\n",
    "- comments: true\n",
    "- author: Luka Van Den Boomen\n",
    "- categories: [fastpages, jupyter, Week 2]"
   ]
  },
  {
   "cell_type": "code",
   "execution_count": 3,
   "metadata": {},
   "outputs": [
    {
     "name": "stdout",
     "output_type": "stream",
     "text": [
      "Hello Luka welcome to the quiz\n",
      "What Formula 1 team has participated every single year?\n",
      "a. Mercedez\n",
      "b. Ferrari\n",
      "c. Mclaren\n",
      "correct answer, you got 1 point\n",
      "What is the highest number of drivers championships?\n",
      "a. 4\n",
      "b. 7\n",
      "c. 8\n",
      "correct answer, you got 1 point\n",
      "When was the first race held?\n",
      "a. 1964\n",
      "b. 1988\n",
      "c. 1946\n",
      "d. 1789\n",
      "wrong answer, you lost 1 point\n",
      "Final score is: 1\n"
     ]
    }
   ],
   "source": [
    "q1 = \"\"\"What Formula 1 team has participated every single year?\n",
    "a. Mercedez\n",
    "b. Ferrari\n",
    "c. Mclaren\"\"\"\n",
    "q2 = \"\"\"What is the highest number of drivers championships?\n",
    "a. 4\n",
    "b. 7\n",
    "c. 8\"\"\"\n",
    "q3 = \"\"\"When was the first race held?\n",
    "a. 1964\n",
    "b. 1988\n",
    "c. 1946\n",
    "d. 1789\"\"\"\n",
    "\n",
    "questions = {q1 : \"b\",q2 : \"b\",q3 : \"c\"}\n",
    "\n",
    "name = input(\"Enter your name: \")\n",
    "print(\"Hello\",name, \"welcome to the quiz\")\n",
    "score=0\n",
    "for i in questions:\n",
    "    print(i)\n",
    "    ans = input(\"enter the answer(a/b/c/d) : \")\n",
    "    if ans==questions[i]:\n",
    "        print(\"correct answer, you got 1 point\")\n",
    "        score = score+1\n",
    "    else:\n",
    "        print(\"wrong answer, you lost 1 point\")\n",
    "        score=score-1\n",
    "print(\"Final score is:\", score)"
   ]
  }
 ],
 "metadata": {
  "kernelspec": {
   "display_name": "Python 3.8.9 64-bit",
   "language": "python",
   "name": "python3"
  },
  "language_info": {
   "codemirror_mode": {
    "name": "ipython",
    "version": 3
   },
   "file_extension": ".py",
   "mimetype": "text/x-python",
   "name": "python",
   "nbconvert_exporter": "python",
   "pygments_lexer": "ipython3",
   "version": "3.8.9"
  },
  "orig_nbformat": 4,
  "vscode": {
   "interpreter": {
    "hash": "31f2aee4e71d21fbe5cf8b01ff0e069b9275f58929596ceb00d14d90e3e16cd6"
   }
  }
 },
 "nbformat": 4,
 "nbformat_minor": 2
}
