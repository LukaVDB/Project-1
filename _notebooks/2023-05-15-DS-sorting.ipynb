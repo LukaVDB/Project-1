{
 "cells": [
  {
   "attachments": {},
   "cell_type": "markdown",
   "metadata": {},
   "source": [
    "# Sorting Algorithms\n",
    "> Working with Data Structures and manipulating data.\n",
    "\n",
    "- toc: true\n",
    "- categories: []\n",
    "- type: pbl\n",
    "- week: 34"
   ]
  },
  {
   "attachments": {},
   "cell_type": "markdown",
   "metadata": {},
   "source": [
    "[wget link](https://raw.githubusercontent.com/nighthawkcoders/APCSP/master/_notebooks/2023-05-15-DS-sorting.ipynb)"
   ]
  },
  {
   "cell_type": "code",
   "execution_count": 1,
   "metadata": {},
   "outputs": [
    {
     "name": "stdout",
     "output_type": "stream",
     "text": [
      "Random List\n",
      "[32, 29, 16, 8, 11, 74, 92, 92, 46, 69]\n"
     ]
    }
   ],
   "source": [
    "import random\n",
    "\n",
    "numbers = []\n",
    "for i in range(10):\n",
    "    numbers.append(random.randint(0,100))\n",
    "print(\"Random List\")\n",
    "print(numbers)"
   ]
  },
  {
   "attachments": {},
   "cell_type": "markdown",
   "metadata": {},
   "source": [
    "# Warm Up\n",
    "\n",
    "> Discuss with a partner... \n",
    "What are some strategies you would use to sort this list? (Don't worry about writing code for now)\n",
    "- I would look through the numbers and keep taking the smallest number and put them in order. "
   ]
  },
  {
   "attachments": {},
   "cell_type": "markdown",
   "metadata": {},
   "source": [
    "# Explore\n",
    "\n",
    "Get into groups of 3\n",
    "\n",
    "We will be focusing on 4 algorithms today.\n",
    "\n",
    "We will look at the first one together, Bubble Sort\n",
    "\n",
    "![](images/bubble-sort.png)\n",
    "\n",
    "What is happening with this sort?\n",
    "\n",
    "In your groups you will each choose to be an expert on a sorting algorithm. Merge, Selection, and Insertion.\n",
    "Take about 5 minutes to read about your algorithm (Geek for Geeks linked below) and be ready to explain it to your other group members. \n",
    "\n",
    "[Merge](https://www.geeksforgeeks.org/merge-sort/#)\n",
    "\n",
    "[Selection](https://www.geeksforgeeks.org/selection-sort/)\n",
    "\n",
    "[Insertion](https://www.geeksforgeeks.org/insertion-sort/)"
   ]
  },
  {
   "attachments": {},
   "cell_type": "markdown",
   "metadata": {},
   "source": [
    "## Practice\n",
    "\n",
    "[75, 17, 46, 80, 67, 45, 69, 79, 40, 0]\n",
    "\n",
    "How would you sort this list with... \n",
    "- Bubble Sort\n",
    "- Selection Sort -The program keeps moving from left to right, it checks two numbers at a time and will switch them so that the smallest is on the left and the higher number is on the right. It loops until the list is in order from smallest to largest. \n",
    "> Explain.\n",
    "\n",
    "[88, 39, 53, 39, 58, 43, 74, 81, 71, 51]\n",
    "\n",
    "How would you sort this list with... \n",
    "- Merge Sort -You create two different indexes and move the numbers into the right place based on if the number is smaller,  larger, or between the two numbers. \n",
    "- Insertion Sort -The program runs through the numbers, when it reaches a number that is out of place, it goes and inserts the number back into the list in the correct spot by going through the list again and places them in the correct place. \n",
    "> Explain.\n"
   ]
  },
  {
   "attachments": {},
   "cell_type": "markdown",
   "metadata": {},
   "source": [
    "# Sorting Words\n",
    "> Sorting strings works in the same way as integers. Using your expertise algorithm, sort the following list of random words."
   ]
  },
  {
   "cell_type": "code",
   "execution_count": 5,
   "metadata": {},
   "outputs": [
    {
     "ename": "AttributeError",
     "evalue": "partially initialized module 'nltk' has no attribute 'data' (most likely due to a circular import)",
     "output_type": "error",
     "traceback": [
      "\u001b[0;31m---------------------------------------------------------------------------\u001b[0m",
      "\u001b[0;31mAttributeError\u001b[0m                            Traceback (most recent call last)",
      "\u001b[1;32m/Users/lukavandenboomen/vscode/Project-1/_notebooks/2023-05-15-DS-sorting.ipynb Cell 8\u001b[0m in \u001b[0;36m<cell line: 1>\u001b[0;34m()\u001b[0m\n\u001b[0;32m----> <a href='vscode-notebook-cell:/Users/lukavandenboomen/vscode/Project-1/_notebooks/2023-05-15-DS-sorting.ipynb#X10sZmlsZQ%3D%3D?line=0'>1</a>\u001b[0m \u001b[39mimport\u001b[39;00m \u001b[39mnltk\u001b[39;00m\n\u001b[1;32m      <a href='vscode-notebook-cell:/Users/lukavandenboomen/vscode/Project-1/_notebooks/2023-05-15-DS-sorting.ipynb#X10sZmlsZQ%3D%3D?line=1'>2</a>\u001b[0m \u001b[39mimport\u001b[39;00m \u001b[39mrandom\u001b[39;00m\n\u001b[1;32m      <a href='vscode-notebook-cell:/Users/lukavandenboomen/vscode/Project-1/_notebooks/2023-05-15-DS-sorting.ipynb#X10sZmlsZQ%3D%3D?line=3'>4</a>\u001b[0m nltk\u001b[39m.\u001b[39mdownload(\u001b[39m'\u001b[39m\u001b[39mwords\u001b[39m\u001b[39m'\u001b[39m)  \u001b[39m# Download the word list (only required once)\u001b[39;00m\n",
      "File \u001b[0;32m~/opt/anaconda3/lib/python3.9/site-packages/nltk/__init__.py:152\u001b[0m, in \u001b[0;36m<module>\u001b[0;34m\u001b[0m\n\u001b[1;32m    150\u001b[0m \u001b[39mfrom\u001b[39;00m \u001b[39mnltk\u001b[39;00m\u001b[39m.\u001b[39;00m\u001b[39mtag\u001b[39;00m \u001b[39mimport\u001b[39;00m \u001b[39m*\u001b[39m\n\u001b[1;32m    151\u001b[0m \u001b[39mfrom\u001b[39;00m \u001b[39mnltk\u001b[39;00m\u001b[39m.\u001b[39;00m\u001b[39mtokenize\u001b[39;00m \u001b[39mimport\u001b[39;00m \u001b[39m*\u001b[39m\n\u001b[0;32m--> 152\u001b[0m \u001b[39mfrom\u001b[39;00m \u001b[39mnltk\u001b[39;00m\u001b[39m.\u001b[39;00m\u001b[39mtranslate\u001b[39;00m \u001b[39mimport\u001b[39;00m \u001b[39m*\u001b[39m\n\u001b[1;32m    153\u001b[0m \u001b[39mfrom\u001b[39;00m \u001b[39mnltk\u001b[39;00m\u001b[39m.\u001b[39;00m\u001b[39mtree\u001b[39;00m \u001b[39mimport\u001b[39;00m \u001b[39m*\u001b[39m\n\u001b[1;32m    154\u001b[0m \u001b[39mfrom\u001b[39;00m \u001b[39mnltk\u001b[39;00m\u001b[39m.\u001b[39;00m\u001b[39msem\u001b[39;00m \u001b[39mimport\u001b[39;00m \u001b[39m*\u001b[39m\n",
      "File \u001b[0;32m~/opt/anaconda3/lib/python3.9/site-packages/nltk/translate/__init__.py:24\u001b[0m, in \u001b[0;36m<module>\u001b[0;34m\u001b[0m\n\u001b[1;32m     22\u001b[0m \u001b[39mfrom\u001b[39;00m \u001b[39mnltk\u001b[39;00m\u001b[39m.\u001b[39;00m\u001b[39mtranslate\u001b[39;00m\u001b[39m.\u001b[39;00m\u001b[39mbleu_score\u001b[39;00m \u001b[39mimport\u001b[39;00m sentence_bleu \u001b[39mas\u001b[39;00m bleu\n\u001b[1;32m     23\u001b[0m \u001b[39mfrom\u001b[39;00m \u001b[39mnltk\u001b[39;00m\u001b[39m.\u001b[39;00m\u001b[39mtranslate\u001b[39;00m\u001b[39m.\u001b[39;00m\u001b[39mribes_score\u001b[39;00m \u001b[39mimport\u001b[39;00m sentence_ribes \u001b[39mas\u001b[39;00m ribes\n\u001b[0;32m---> 24\u001b[0m \u001b[39mfrom\u001b[39;00m \u001b[39mnltk\u001b[39;00m\u001b[39m.\u001b[39;00m\u001b[39mtranslate\u001b[39;00m\u001b[39m.\u001b[39;00m\u001b[39mmeteor_score\u001b[39;00m \u001b[39mimport\u001b[39;00m meteor_score \u001b[39mas\u001b[39;00m meteor\n\u001b[1;32m     25\u001b[0m \u001b[39mfrom\u001b[39;00m \u001b[39mnltk\u001b[39;00m\u001b[39m.\u001b[39;00m\u001b[39mtranslate\u001b[39;00m\u001b[39m.\u001b[39;00m\u001b[39mmetrics\u001b[39;00m \u001b[39mimport\u001b[39;00m alignment_error_rate\n\u001b[1;32m     26\u001b[0m \u001b[39mfrom\u001b[39;00m \u001b[39mnltk\u001b[39;00m\u001b[39m.\u001b[39;00m\u001b[39mtranslate\u001b[39;00m\u001b[39m.\u001b[39;00m\u001b[39mstack_decoder\u001b[39;00m \u001b[39mimport\u001b[39;00m StackDecoder\n",
      "File \u001b[0;32m~/opt/anaconda3/lib/python3.9/site-packages/nltk/translate/meteor_score.py:13\u001b[0m, in \u001b[0;36m<module>\u001b[0;34m\u001b[0m\n\u001b[1;32m     10\u001b[0m \u001b[39mfrom\u001b[39;00m \u001b[39mitertools\u001b[39;00m \u001b[39mimport\u001b[39;00m chain, product\n\u001b[1;32m     11\u001b[0m \u001b[39mfrom\u001b[39;00m \u001b[39mtyping\u001b[39;00m \u001b[39mimport\u001b[39;00m Callable, Iterable, List, Tuple\n\u001b[0;32m---> 13\u001b[0m \u001b[39mfrom\u001b[39;00m \u001b[39mnltk\u001b[39;00m\u001b[39m.\u001b[39;00m\u001b[39mcorpus\u001b[39;00m \u001b[39mimport\u001b[39;00m WordNetCorpusReader, wordnet\n\u001b[1;32m     14\u001b[0m \u001b[39mfrom\u001b[39;00m \u001b[39mnltk\u001b[39;00m\u001b[39m.\u001b[39;00m\u001b[39mstem\u001b[39;00m\u001b[39m.\u001b[39;00m\u001b[39mapi\u001b[39;00m \u001b[39mimport\u001b[39;00m StemmerI\n\u001b[1;32m     15\u001b[0m \u001b[39mfrom\u001b[39;00m \u001b[39mnltk\u001b[39;00m\u001b[39m.\u001b[39;00m\u001b[39mstem\u001b[39;00m\u001b[39m.\u001b[39;00m\u001b[39mporter\u001b[39;00m \u001b[39mimport\u001b[39;00m PorterStemmer\n",
      "File \u001b[0;32m~/opt/anaconda3/lib/python3.9/site-packages/nltk/corpus/__init__.py:64\u001b[0m, in \u001b[0;36m<module>\u001b[0;34m\u001b[0m\n\u001b[1;32m      9\u001b[0m \u001b[39m\"\"\"\u001b[39;00m\n\u001b[1;32m     10\u001b[0m \u001b[39mNLTK corpus readers.  The modules in this package provide functions\u001b[39;00m\n\u001b[1;32m     11\u001b[0m \u001b[39mthat can be used to read corpus files in a variety of formats.  These\u001b[39;00m\n\u001b[0;32m   (...)\u001b[0m\n\u001b[1;32m     59\u001b[0m \n\u001b[1;32m     60\u001b[0m \u001b[39m\"\"\"\u001b[39;00m\n\u001b[1;32m     62\u001b[0m \u001b[39mimport\u001b[39;00m \u001b[39mre\u001b[39;00m\n\u001b[0;32m---> 64\u001b[0m \u001b[39mfrom\u001b[39;00m \u001b[39mnltk\u001b[39;00m\u001b[39m.\u001b[39;00m\u001b[39mcorpus\u001b[39;00m\u001b[39m.\u001b[39;00m\u001b[39mreader\u001b[39;00m \u001b[39mimport\u001b[39;00m \u001b[39m*\u001b[39m\n\u001b[1;32m     65\u001b[0m \u001b[39mfrom\u001b[39;00m \u001b[39mnltk\u001b[39;00m\u001b[39m.\u001b[39;00m\u001b[39mcorpus\u001b[39;00m\u001b[39m.\u001b[39;00m\u001b[39mutil\u001b[39;00m \u001b[39mimport\u001b[39;00m LazyCorpusLoader\n\u001b[1;32m     66\u001b[0m \u001b[39mfrom\u001b[39;00m \u001b[39mnltk\u001b[39;00m\u001b[39m.\u001b[39;00m\u001b[39mtokenize\u001b[39;00m \u001b[39mimport\u001b[39;00m RegexpTokenizer\n",
      "File \u001b[0;32m~/opt/anaconda3/lib/python3.9/site-packages/nltk/corpus/reader/__init__.py:57\u001b[0m, in \u001b[0;36m<module>\u001b[0;34m\u001b[0m\n\u001b[1;32m      1\u001b[0m \u001b[39m# Natural Language Toolkit: Corpus Readers\u001b[39;00m\n\u001b[1;32m      2\u001b[0m \u001b[39m#\u001b[39;00m\n\u001b[1;32m      3\u001b[0m \u001b[39m# Copyright (C) 2001-2022 NLTK Project\u001b[39;00m\n\u001b[0;32m   (...)\u001b[0m\n\u001b[1;32m      6\u001b[0m \u001b[39m# URL: <https://www.nltk.org/>\u001b[39;00m\n\u001b[1;32m      7\u001b[0m \u001b[39m# For license information, see LICENSE.TXT\u001b[39;00m\n\u001b[1;32m      9\u001b[0m \u001b[39m\"\"\"\u001b[39;00m\n\u001b[1;32m     10\u001b[0m \u001b[39mNLTK corpus readers.  The modules in this package provide functions\u001b[39;00m\n\u001b[1;32m     11\u001b[0m \u001b[39mthat can be used to read corpus fileids in a variety of formats.  These\u001b[39;00m\n\u001b[0;32m   (...)\u001b[0m\n\u001b[1;32m     54\u001b[0m \u001b[39misort:skip_file\u001b[39;00m\n\u001b[1;32m     55\u001b[0m \u001b[39m\"\"\"\u001b[39;00m\n\u001b[0;32m---> 57\u001b[0m \u001b[39mfrom\u001b[39;00m \u001b[39mnltk\u001b[39;00m\u001b[39m.\u001b[39;00m\u001b[39mcorpus\u001b[39;00m\u001b[39m.\u001b[39;00m\u001b[39mreader\u001b[39;00m\u001b[39m.\u001b[39;00m\u001b[39mplaintext\u001b[39;00m \u001b[39mimport\u001b[39;00m \u001b[39m*\u001b[39m\n\u001b[1;32m     58\u001b[0m \u001b[39mfrom\u001b[39;00m \u001b[39mnltk\u001b[39;00m\u001b[39m.\u001b[39;00m\u001b[39mcorpus\u001b[39;00m\u001b[39m.\u001b[39;00m\u001b[39mreader\u001b[39;00m\u001b[39m.\u001b[39;00m\u001b[39mutil\u001b[39;00m \u001b[39mimport\u001b[39;00m \u001b[39m*\u001b[39m\n\u001b[1;32m     59\u001b[0m \u001b[39mfrom\u001b[39;00m \u001b[39mnltk\u001b[39;00m\u001b[39m.\u001b[39;00m\u001b[39mcorpus\u001b[39;00m\u001b[39m.\u001b[39;00m\u001b[39mreader\u001b[39;00m\u001b[39m.\u001b[39;00m\u001b[39mapi\u001b[39;00m \u001b[39mimport\u001b[39;00m \u001b[39m*\u001b[39m\n",
      "File \u001b[0;32m~/opt/anaconda3/lib/python3.9/site-packages/nltk/corpus/reader/plaintext.py:20\u001b[0m, in \u001b[0;36m<module>\u001b[0;34m\u001b[0m\n\u001b[1;32m     16\u001b[0m \u001b[39mfrom\u001b[39;00m \u001b[39mnltk\u001b[39;00m\u001b[39m.\u001b[39;00m\u001b[39mcorpus\u001b[39;00m\u001b[39m.\u001b[39;00m\u001b[39mreader\u001b[39;00m\u001b[39m.\u001b[39;00m\u001b[39mutil\u001b[39;00m \u001b[39mimport\u001b[39;00m \u001b[39m*\u001b[39m\n\u001b[1;32m     17\u001b[0m \u001b[39mfrom\u001b[39;00m \u001b[39mnltk\u001b[39;00m\u001b[39m.\u001b[39;00m\u001b[39mtokenize\u001b[39;00m \u001b[39mimport\u001b[39;00m \u001b[39m*\u001b[39m\n\u001b[0;32m---> 20\u001b[0m \u001b[39mclass\u001b[39;00m \u001b[39mPlaintextCorpusReader\u001b[39;00m(CorpusReader):\n\u001b[1;32m     21\u001b[0m     \u001b[39m\"\"\"\u001b[39;00m\n\u001b[1;32m     22\u001b[0m \u001b[39m    Reader for corpora that consist of plaintext documents.  Paragraphs\u001b[39;00m\n\u001b[1;32m     23\u001b[0m \u001b[39m    are assumed to be split using blank lines.  Sentences and words can\u001b[39;00m\n\u001b[0;32m   (...)\u001b[0m\n\u001b[1;32m     29\u001b[0m \u001b[39m    overriding the ``CorpusView`` class variable.\u001b[39;00m\n\u001b[1;32m     30\u001b[0m \u001b[39m    \"\"\"\u001b[39;00m\n\u001b[1;32m     32\u001b[0m     CorpusView \u001b[39m=\u001b[39m StreamBackedCorpusView\n",
      "File \u001b[0;32m~/opt/anaconda3/lib/python3.9/site-packages/nltk/corpus/reader/plaintext.py:42\u001b[0m, in \u001b[0;36mPlaintextCorpusReader\u001b[0;34m()\u001b[0m\n\u001b[1;32m     32\u001b[0m CorpusView \u001b[39m=\u001b[39m StreamBackedCorpusView\n\u001b[1;32m     33\u001b[0m \u001b[39m\"\"\"The corpus view class used by this reader.  Subclasses of\u001b[39;00m\n\u001b[1;32m     34\u001b[0m \u001b[39m   ``PlaintextCorpusReader`` may specify alternative corpus view\u001b[39;00m\n\u001b[1;32m     35\u001b[0m \u001b[39m   classes (e.g., to skip the preface sections of documents.)\"\"\"\u001b[39;00m\n\u001b[1;32m     37\u001b[0m \u001b[39mdef\u001b[39;00m \u001b[39m__init__\u001b[39m(\n\u001b[1;32m     38\u001b[0m     \u001b[39mself\u001b[39m,\n\u001b[1;32m     39\u001b[0m     root,\n\u001b[1;32m     40\u001b[0m     fileids,\n\u001b[1;32m     41\u001b[0m     word_tokenizer\u001b[39m=\u001b[39mWordPunctTokenizer(),\n\u001b[0;32m---> 42\u001b[0m     sent_tokenizer\u001b[39m=\u001b[39mnltk\u001b[39m.\u001b[39;49mdata\u001b[39m.\u001b[39mLazyLoader(\u001b[39m\"\u001b[39m\u001b[39mtokenizers/punkt/english.pickle\u001b[39m\u001b[39m\"\u001b[39m),\n\u001b[1;32m     43\u001b[0m     para_block_reader\u001b[39m=\u001b[39mread_blankline_block,\n\u001b[1;32m     44\u001b[0m     encoding\u001b[39m=\u001b[39m\u001b[39m\"\u001b[39m\u001b[39mutf8\u001b[39m\u001b[39m\"\u001b[39m,\n\u001b[1;32m     45\u001b[0m ):\n\u001b[1;32m     46\u001b[0m     \u001b[39mr\u001b[39m\u001b[39m\"\"\"\u001b[39;00m\n\u001b[1;32m     47\u001b[0m \u001b[39m    Construct a new plaintext corpus reader for a set of documents\u001b[39;00m\n\u001b[1;32m     48\u001b[0m \u001b[39m    located at the given root directory.  Example usage:\u001b[39;00m\n\u001b[0;32m   (...)\u001b[0m\n\u001b[1;32m     60\u001b[0m \u001b[39m        corpus into paragraph blocks.\u001b[39;00m\n\u001b[1;32m     61\u001b[0m \u001b[39m    \"\"\"\u001b[39;00m\n\u001b[1;32m     62\u001b[0m     CorpusReader\u001b[39m.\u001b[39m\u001b[39m__init__\u001b[39m(\u001b[39mself\u001b[39m, root, fileids, encoding)\n",
      "\u001b[0;31mAttributeError\u001b[0m: partially initialized module 'nltk' has no attribute 'data' (most likely due to a circular import)"
     ]
    }
   ],
   "source": [
    "import nltk\n",
    "import random\n",
    "\n",
    "nltk.download('words')  # Download the word list (only required once)\n",
    "\n",
    "from nltk.corpus import words\n",
    "\n",
    "english_words = words.words()\n",
    "print(len(english_words))  # Prints the number of words in the list\n",
    "\n",
    "\n",
    "\n",
    "# You can now use the 'english_words' list in your code\n",
    "\n",
    "words = []\n",
    "for i in range(10):\n",
    "    words.append(english_words[random.randint(0,len(english_words))])\n",
    "print(\"Random List\")\n",
    "print(words)"
   ]
  },
  {
   "attachments": {},
   "cell_type": "markdown",
   "metadata": {},
   "source": [
    "## Discuss \n",
    "Answer the following with your group.\n",
    "\n",
    "- When should you use each algorithm? What makes an algorithm the right choice?\n",
    "- Given the following lists...\n",
    "    - [0, 2, 6, 4, 8, 10]\n",
    "    - [Elephant, Banana, Cat, Dog, Apple]\n",
    "    - [29, 13, 83, 47, 32, 78, 100, 60, 65, 15, 24, 9, 40, 68, 53, 8, 90, 58, 39, 32, 34, 91, 74, 94, 49, 87, 34, 87, 23, 17, 27, 2, 38, 58, 84, 15, 9, 46, 74, 40, 44, 8, 55, 28, 81, 92, 81, 88, 53, 38, 19, 21, 9, 54, 21, 67, 3, 41, 3, 74, 13, 71, 70, 45, 5, 36, 80, 64, 97, 86, 73, 74, 94, 79, 49, 32, 20, 68, 64, 69, 1, 77, 31, 56, 100, 80, 48, 75, 85, 93, 67, 57, 26, 56, 43, 53, 59, 28, 67, 50]\n",
    "Select the algorithm you believe is best for each, explain."
   ]
  },
  {
   "attachments": {},
   "cell_type": "markdown",
   "metadata": {},
   "source": [
    "## HACKS\n",
    "> Provided below is a Bubble Sort Algorithm sorting a list of dictionaries based off of selected key.\n",
    "\n",
    "- Now it's time to do some coding...\n",
    "\n",
    "- Run code and then research and answer these questions...\n",
    "    - Is a list and/or dictionary in python considered a primitive or collection type?  Why?\n",
    "    - Is the list passed into bubble sort \"pass-by-value\" or \"pass-by-reference? Describe why in relation to output.\n",
    "\n",
    "- Implement new cell(s) and/or organize cells to do the following.\n",
    "    - Create your own list\n",
    "    - Use your expertise sorting algorithm (selection, insertion, merge). Note, I got my bubble sort from Geek for Geeks and made modifications. Each student in a group should have a unique algorithm.\n",
    "    - Test your list with my bubble sort\n",
    "    - Test my list with your new sort\n",
    "    - Research analysis on sorting: comparisons, swaps, time.  Build this into your hacks.\n",
    "    - Find a better way to print the data, key first, then other elements in viewable form.\n",
    "\n",
    "Use the code below to help guide your adventure"
   ]
  },
  {
   "cell_type": "code",
   "execution_count": 1,
   "metadata": {},
   "outputs": [
    {
     "name": "stdout",
     "output_type": "stream",
     "text": [
      "Original\n",
      "[{'name': 'Risa', 'age': 18, 'city': 'New York'}, {'name': 'John', 'age': 63, 'city': 'Eugene'}, {'name': 'Shekar', 'age': 18, 'city': 'San Francisco'}, {'name': 'Ryan', 'age': 21, 'city': 'Los Angeles'}]\n",
      "name\n",
      "[{'name': 'John', 'age': 63, 'city': 'Eugene'}, {'name': 'Risa', 'age': 18, 'city': 'New York'}, {'name': 'Ryan', 'age': 21, 'city': 'Los Angeles'}, {'name': 'Shekar', 'age': 18, 'city': 'San Francisco'}]\n",
      "age\n",
      "[{'name': 'Risa', 'age': 18, 'city': 'New York'}, {'name': 'Shekar', 'age': 18, 'city': 'San Francisco'}, {'name': 'Ryan', 'age': 21, 'city': 'Los Angeles'}, {'name': 'John', 'age': 63, 'city': 'Eugene'}]\n",
      "city\n",
      "[{'name': 'John', 'age': 63, 'city': 'Eugene'}, {'name': 'Ryan', 'age': 21, 'city': 'Los Angeles'}, {'name': 'Risa', 'age': 18, 'city': 'New York'}, {'name': 'Shekar', 'age': 18, 'city': 'San Francisco'}]\n"
     ]
    }
   ],
   "source": [
    "\"\"\"\n",
    "* Creator: Nighthawk Coding Society\n",
    "Bubble Sort of a List with optimizations\n",
    "\"\"\"\n",
    "\n",
    "# bubble sorts a list of dictionaries, base off of provided key\n",
    "def bubbleSort(list, key):\n",
    "    n = len(list) - 1  # list are indexed 0 to n-1, len is n\n",
    "    \n",
    "    # Traverse through list with i index\n",
    "    for i in range(n):\n",
    "        swapped = False  # optimize code, so it exits if now swaps on inner loop\n",
    "\n",
    "        # Inner traversal using j index\n",
    "        for j in range(n-i):  # n-i as positions on right are in order in bubble\n",
    " \n",
    "            # Swap if the element KeyN is greater KeyN1\n",
    "            keyN = list[j].get(key)\n",
    "            keyN1 = list[j+1].get(key)\n",
    "            if keyN > keyN1:\n",
    "                swapped = True\n",
    "                list[j], list[j + 1] = list[j + 1], list[j]  # single line swap\n",
    "         \n",
    "        if not swapped:  # if no swaps on inner pass, list is sorted\n",
    "            return  # exit function\n",
    "    \n",
    "\n",
    "if __name__ == \"__main__\":\n",
    "    # list/dictionary sample\n",
    "    list_of_people = [\n",
    "    {\"name\": \"Risa\", \"age\": 18, \"city\": \"New York\"},\n",
    "    {\"name\": \"John\", \"age\": 63, \"city\": \"Eugene\"},\n",
    "    {\"name\": \"Shekar\", \"age\": 18, \"city\": \"San Francisco\"},\n",
    "    {\"name\": \"Ryan\", \"age\": 21, \"city\": \"Los Angeles\"}\n",
    "    ]\n",
    "    \n",
    "    # assuming uniform keys, pick 1st row as source of keys\n",
    "    key_row = list_of_people[0]\n",
    "\n",
    "    # print list as defined\n",
    "    print(\"Original\")\n",
    "    print(list_of_people)\n",
    "    \n",
    "    for key in key_row:  # finds each key in the row\n",
    "        print(key)\n",
    "        bubbleSort(list_of_people, key)  # sort list of people\n",
    "        print(list_of_people)"
   ]
  },
  {
   "cell_type": "code",
   "execution_count": 2,
   "metadata": {},
   "outputs": [],
   "source": [
    "scores = [\n",
    "    {\"name\": \"Luka\", \"percent\": 52, \"letter\": \"F\"},\n",
    "    {\"name\": \"Bob\", \"percent\": 83, \"letter\": \"B\"},\n",
    "    {\"name\": \"Tom\", \"percent\": 77, \"letter\": \"C\"},\n",
    "    {\"name\": \"Bill\", \"percent\": 68, \"letter\": \"D\"}\n",
    "    ]"
   ]
  },
  {
   "cell_type": "code",
   "execution_count": 3,
   "metadata": {},
   "outputs": [
    {
     "name": "stdout",
     "output_type": "stream",
     "text": [
      "Original\n",
      "[{'name': 'Luka', 'percent': 52, 'letter': 'F'}, {'name': 'Bob', 'percent': 83, 'letter': 'B'}, {'name': 'Tom', 'percent': 77, 'letter': 'C'}, {'name': 'Bill', 'percent': 68, 'letter': 'D'}]\n",
      "name\n",
      "[{'name': 'Bill', 'percent': 68, 'letter': 'D'}, {'name': 'Bob', 'percent': 83, 'letter': 'B'}, {'name': 'Luka', 'percent': 52, 'letter': 'F'}, {'name': 'Tom', 'percent': 77, 'letter': 'C'}]\n",
      "percent\n",
      "[{'name': 'Luka', 'percent': 52, 'letter': 'F'}, {'name': 'Bill', 'percent': 68, 'letter': 'D'}, {'name': 'Tom', 'percent': 77, 'letter': 'C'}, {'name': 'Bob', 'percent': 83, 'letter': 'B'}]\n",
      "letter\n",
      "[{'name': 'Bob', 'percent': 83, 'letter': 'B'}, {'name': 'Tom', 'percent': 77, 'letter': 'C'}, {'name': 'Bill', 'percent': 68, 'letter': 'D'}, {'name': 'Luka', 'percent': 52, 'letter': 'F'}]\n"
     ]
    }
   ],
   "source": [
    "\"\"\"\n",
    "* Creator: Nighthawk Coding Society\n",
    "Bubble Sort of a List with optimizations\n",
    "\"\"\"\n",
    "\n",
    "# bubble sorts a list of dictionaries, base off of provided key\n",
    "def bubbleSort(list, key):\n",
    "    n = len(list) - 1  # list are indexed 0 to n-1, len is n\n",
    "    \n",
    "    # Traverse through list with i index\n",
    "    for i in range(n):\n",
    "        swapped = False  # optimize code, so it exits if now swaps on inner loop\n",
    "\n",
    "        # Inner traversal using j index\n",
    "        for j in range(n-i):  # n-i as positions on right are in order in bubble\n",
    " \n",
    "            # Swap if the element KeyN is greater KeyN1\n",
    "            keyN = list[j].get(key)\n",
    "            keyN1 = list[j+1].get(key)\n",
    "            if keyN > keyN1:\n",
    "                swapped = True\n",
    "                list[j], list[j + 1] = list[j + 1], list[j]  # single line swap\n",
    "         \n",
    "        if not swapped:  # if no swaps on inner pass, list is sorted\n",
    "            return  # exit function\n",
    "    \n",
    "\n",
    "if __name__ == \"__main__\":\n",
    "    # list/dictionary sample\n",
    "    grades = [\n",
    "    {\"name\": \"Luka\", \"percent\": 52, \"letter\": \"F\"},\n",
    "    {\"name\": \"Bob\", \"percent\": 83, \"letter\": \"B\"},\n",
    "    {\"name\": \"Tom\", \"percent\": 77, \"letter\": \"C\"},\n",
    "    {\"name\": \"Bill\", \"percent\": 68, \"letter\": \"D\"}\n",
    "    ]\n",
    "    \n",
    "    # assuming uniform keys, pick 1st row as source of keys\n",
    "    key_row = scores[0]\n",
    "\n",
    "    # print list as defined\n",
    "    print(\"Original\")\n",
    "    print(scores)\n",
    "    \n",
    "    for key in key_row:  # finds each key in the row\n",
    "        print(key)\n",
    "        bubbleSort(scores, key)  # sort list of people\n",
    "        print(scores)\n"
   ]
  },
  {
   "cell_type": "code",
   "execution_count": 4,
   "metadata": {},
   "outputs": [
    {
     "name": "stdout",
     "output_type": "stream",
     "text": [
      "Original\n",
      "[{'orderName': 'Luka', 'pizzaType': 'cheese', 'address': 'DisneyLane'}, {'orderName': 'Bob', 'pizzaType': 'pepperoni', 'address': 'UniversalRoad'}, {'orderName': 'Tom', 'pizzaType': 'mushroom', 'address': 'WashingtonStreet'}, {'orderName': 'Bill', 'pizzaType': 'BBQ', 'address': 'TokyoBoulevard'}]\n",
      "orderName\n",
      "[{'orderName': 'Bill', 'pizzaType': 'BBQ', 'address': 'TokyoBoulevard'}, {'orderName': 'Bob', 'pizzaType': 'pepperoni', 'address': 'UniversalRoad'}, {'orderName': 'Luka', 'pizzaType': 'cheese', 'address': 'DisneyLane'}, {'orderName': 'Tom', 'pizzaType': 'mushroom', 'address': 'WashingtonStreet'}]\n",
      "pizzaType\n",
      "[{'orderName': 'Bill', 'pizzaType': 'BBQ', 'address': 'TokyoBoulevard'}, {'orderName': 'Luka', 'pizzaType': 'cheese', 'address': 'DisneyLane'}, {'orderName': 'Tom', 'pizzaType': 'mushroom', 'address': 'WashingtonStreet'}, {'orderName': 'Bob', 'pizzaType': 'pepperoni', 'address': 'UniversalRoad'}]\n",
      "address\n",
      "[{'orderName': 'Luka', 'pizzaType': 'cheese', 'address': 'DisneyLane'}, {'orderName': 'Bill', 'pizzaType': 'BBQ', 'address': 'TokyoBoulevard'}, {'orderName': 'Bob', 'pizzaType': 'pepperoni', 'address': 'UniversalRoad'}, {'orderName': 'Tom', 'pizzaType': 'mushroom', 'address': 'WashingtonStreet'}]\n"
     ]
    }
   ],
   "source": [
    "\"\"\"\n",
    "* Creator: Nighthawk Coding Society\n",
    "Bubble Sort of a List with optimizations\n",
    "\"\"\"\n",
    "\n",
    "# bubble sorts a list of dictionaries, base off of provided key\n",
    "def bubbleSort(list, key):\n",
    "    n = len(list) - 1  # list are indexed 0 to n-1, len is n\n",
    "    \n",
    "    # Traverse through list with i index\n",
    "    for i in range(n):\n",
    "        swapped = False  # optimize code, so it exits if now swaps on inner loop\n",
    "\n",
    "        # Inner traversal using j index\n",
    "        for j in range(n-i):  # n-i as positions on right are in order in bubble\n",
    " \n",
    "            # Swap if the element KeyN is greater KeyN1\n",
    "            keyN = list[j].get(key)\n",
    "            keyN1 = list[j+1].get(key)\n",
    "            if keyN > keyN1:\n",
    "                swapped = True\n",
    "                list[j], list[j + 1] = list[j + 1], list[j]  # single line swap\n",
    "         \n",
    "        if not swapped:  # if no swaps on inner pass, list is sorted\n",
    "            return  # exit function\n",
    "    \n",
    "\n",
    "if __name__ == \"__main__\":\n",
    "    # list/dictionary samplea\n",
    "    orders = [\n",
    "    {\"orderName\": \"Luka\", \"pizzaType\": \"cheese\", \"address\": \"DisneyLane\"},\n",
    "    {\"orderName\": \"Bob\", \"pizzaType\": \"pepperoni\", \"address\": \"UniversalRoad\"},\n",
    "    {\"orderName\": \"Tom\", \"pizzaType\": \"mushroom\", \"address\": \"WashingtonStreet\"},\n",
    "    {\"orderName\": \"Bill\", \"pizzaType\": \"BBQ\", \"address\": \"TokyoBoulevard\"}\n",
    "    ]\n",
    "    \n",
    "    # assuming uniform keys, pick 1st row as source of keys\n",
    "    key_row = orders[0]\n",
    "\n",
    "    # print list as defined\n",
    "    print(\"Original\")\n",
    "    print(orders)\n",
    "    \n",
    "    for key in key_row:  # finds each key in the row\n",
    "        print(key)\n",
    "        bubbleSort(orders, key)  # sort list of people\n",
    "        print(orders)\n"
   ]
  }
 ],
 "metadata": {
  "kernelspec": {
   "display_name": "base",
   "language": "python",
   "name": "python3"
  },
  "language_info": {
   "codemirror_mode": {
    "name": "ipython",
    "version": 3
   },
   "file_extension": ".py",
   "mimetype": "text/x-python",
   "name": "python",
   "nbconvert_exporter": "python",
   "pygments_lexer": "ipython3",
   "version": "3.9.12"
  },
  "orig_nbformat": 4
 },
 "nbformat": 4,
 "nbformat_minor": 2
}
