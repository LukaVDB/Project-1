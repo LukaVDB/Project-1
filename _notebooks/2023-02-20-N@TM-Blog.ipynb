{
 "cells": [
  {
   "attachments": {},
   "cell_type": "markdown",
   "metadata": {},
   "source": [
    "# N@TM Blog\n",
    "\n",
    "- title: N@TM Blog Tri 2\n",
    "\n",
    "- categories: []"
   ]
  },
  {
   "attachments": {},
   "cell_type": "markdown",
   "metadata": {},
   "source": [
    "\n",
    "\n",
    "## Presentation reflection\n",
    "- Overall, our project was able to have various people look at our projects and had good improvements compared to my project from the first trimester. I liked how our project was very interesting to some people because they were also very interested in the stock market. The backend for my feature did not work completely yet so I was unable to gather data from the others. \n",
    "\n",
    "\n"
   ]
  },
  {
   "attachments": {},
   "cell_type": "markdown",
   "metadata": {},
   "source": [
    "## Other Projects I Saw\n",
    "\n",
    "### Project 1\n",
    "![ImageOne](../images/IMG_0723.jpeg)\n",
    "\n",
    "#### Analysis\n",
    "- Lots of detailed surroundings, including the cabinets and table\n",
    "- The dark surroundings does hide the detail of the objects on the table, like the plate and the cup\n",
    "- The cup seems like it is too large\n",
    "- It is very hard to read what is written on the box\n",
    "- the object on the left covers a lot of the view of the over environment\n"
   ]
  },
  {
   "attachments": {},
   "cell_type": "markdown",
   "metadata": {},
   "source": [
    "### Project 2\n",
    "![ImageTwo](../images/IMG_0722.jpeg)\n",
    "\n",
    "#### Analysis\n",
    "- Very creative idea about traveling\n",
    "- They had a visual that I think had buttons that looked very nice\n",
    "- Lacked the detail of what they had made in this project for night at the museum\n",
    "- Only had one feature to show to others which lacked in various areas"
   ]
  }
 ],
 "metadata": {
  "kernelspec": {
   "display_name": "base",
   "language": "python",
   "name": "python3"
  },
  "language_info": {
   "name": "python",
   "version": "3.9.12"
  },
  "orig_nbformat": 4,
  "vscode": {
   "interpreter": {
    "hash": "647057b329c0d9024bd3a0786c24b4b9bd47f70804056596a3b82b98cd707b5b"
   }
  }
 },
 "nbformat": 4,
 "nbformat_minor": 2
}
