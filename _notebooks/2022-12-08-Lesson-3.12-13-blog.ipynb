{
 "cells": [
  {
   "attachments": {},
   "cell_type": "markdown",
   "metadata": {},
   "source": [
    "# Unit 3 Sections 14 and 15 notes\n",
    " \n",
    "- title: Unit 3 Sections 12 and 13 notes\n",
    "- toc: true\n",
    "- categories: [hacks]"
   ]
  },
  {
   "attachments": {},
   "cell_type": "markdown",
   "metadata": {},
   "source": [
    "## Hacks\n",
    "### Topic 3.12 (3.A):\n",
    "1. Define **procedure** and **parameter** in your own words\n",
    "- A procedure is a part of the code that completes a certain part. \n",
    "- A parameter is a variable that gets used in another function to show the data of a variable. \n",
    "2. Paste a **screenshot** of completion of the quiz\n",
    "![ImageOne](../images/ScreenShot2022-12-12at8.55.44PM.png)\n",
    "3. Define **Return Values** and **Output Parameters** in your own words\n",
    "- A return value is a function that recalls a variable that has been defined previously. An output parameter is when make limits on what the output can be. \n",
    "4. Code a **procedure** that finds the square root of any given number. (make sure to call and return the function)\n",
    "\n",
    "\n"
   ]
  },
  {
   "cell_type": "code",
   "execution_count": 1,
   "metadata": {},
   "outputs": [
    {
     "name": "stdout",
     "output_type": "stream",
     "text": [
      "2.0\n"
     ]
    }
   ],
   "source": [
    "import math\n",
    "x = 4\n",
    "y = 8\n",
    "\n",
    "def square_root(x):\n",
    "    square_root = x\n",
    "    return square_root\n",
    "\n",
    "answer = math.sqrt(x)\n",
    "print(answer)"
   ]
  },
  {
   "attachments": {},
   "cell_type": "markdown",
   "metadata": {},
   "source": [
    "### Topic 3.13 (3.B):\n",
    "1. Explain, in your own words, why abstracting away your program logic into separate, modular functions is effective\n",
    "- Abstracting your code makes it easier to organize and reuse your code. \n",
    "2. Create a procedure that uses other sub-procedures (other functions) within it and explain why the abstraction was needed (conciseness, shared behavior, etc.)\n",
    "3. Add another layer of abstraction to the word counter program (HINT: create a function that can count the number of words starting with ANY character in a given string -- how can we leverage parameters for this?)\n",
    "\n",
    "\n"
   ]
  },
  {
   "cell_type": "code",
   "execution_count": 6,
   "metadata": {},
   "outputs": [],
   "source": [
    "def main_procedure(int, int) -> x:\n",
    "  # Define the sub procedures.\n",
    "  def add_numbers(int, int) -> y:\n",
    "    # Add two numbers.\n",
    "    return 2 + 8\n",
    "\n",
    "  def multiply_numbers(int, int) -> int:\n",
    "    # Multiply two numbers.\n",
    "    return 2 * 8\n",
    "\n",
    "  # Call the sub procedures.\n",
    "  sum_result = add_numbers(4, 5)\n",
    "  product_result = multiply_numbers(4, 5)\n",
    "\n",
    "  # Return the sum of the numbers multiplied by their product.\n",
    "  return sum_result * product_result"
   ]
  },
  {
   "attachments": {},
   "cell_type": "markdown",
   "metadata": {},
   "source": [
    "makes it easier to organize the code. "
   ]
  },
  {
   "attachments": {},
   "cell_type": "markdown",
   "metadata": {},
   "source": [
    "### Topic 3.13 (3.C):\n",
    "1. Define <font color=\"#ffffc2\" style=\"font-weight: bold\">procedure names</font> and <font color=\"#ffffc2\" style=\"font-weight: bold\">arguments</font> in your own words.\n",
    "2. Code some <font color=\"#ffffc2\" style=\"font-weight: bold\">procedures</font> that use <font color=\"#ffffc2\" style=\"font-weight: bold\">arguments</font> and <font color=\"#ffffc2\" style=\"font-weight: bold\">parameters</font> with Javascript and HTML (make sure they are interactive on your hacks page, allowing the user to input numbers and click a button to produce an output)\n",
    "  - Add two numbers\n",
    "  - Subtract two numbers\n",
    "  - Multiply two numbers\n",
    "  - Divide two numbers"
   ]
  },
  {
   "attachments": {},
   "cell_type": "markdown",
   "metadata": {},
   "source": [
    "- Procedure names: a procedure names is something that calls the procedure, used to make it easier later on in the code. An argument, is what allows the procedure to do whatever it needs with the arguments provided. "
   ]
  },
  {
   "cell_type": "code",
   "execution_count": 15,
   "metadata": {},
   "outputs": [],
   "source": [
    "def calculate_average(numbers: [\"1\", \"2\", \"3\", \"4\"]) -> float:\n",
    "  # Calculate the sum of the numbers.\n",
    "  total = 0\n",
    "  for num in numbers:\n",
    "    total += num\n",
    "\n",
    "  # Calculate the average of the numbers.\n",
    "  return total / len(numbers)\n",
    "\n",
    "  result = calculate_average([1, 2, 3, 4])\n",
    "\n",
    "  "
   ]
  }
 ],
 "metadata": {
  "kernelspec": {
   "display_name": "Python 3.9.12 ('base')",
   "language": "python",
   "name": "python3"
  },
  "language_info": {
   "codemirror_mode": {
    "name": "ipython",
    "version": 3
   },
   "file_extension": ".py",
   "mimetype": "text/x-python",
   "name": "python",
   "nbconvert_exporter": "python",
   "pygments_lexer": "ipython3",
   "version": "3.9.12"
  },
  "orig_nbformat": 4,
  "vscode": {
   "interpreter": {
    "hash": "647057b329c0d9024bd3a0786c24b4b9bd47f70804056596a3b82b98cd707b5b"
   }
  }
 },
 "nbformat": 4,
 "nbformat_minor": 2
}
