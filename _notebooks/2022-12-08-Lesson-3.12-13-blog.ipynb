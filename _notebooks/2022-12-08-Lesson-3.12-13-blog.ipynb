{
 "cells": [
  {
   "cell_type": "code",
   "execution_count": null,
   "metadata": {},
   "outputs": [],
   "source": []
  },
  {
   "cell_type": "markdown",
   "metadata": {},
   "source": []
  },
  {
   "attachments": {},
   "cell_type": "markdown",
   "metadata": {},
   "source": [
    "## Hacks\n",
    "### Topic 3.12 (3.A):\n",
    "1. Define **procedure** and **parameter** in your own words\n",
    "- A procedure is a part of the code that completes a certain part. \n",
    "- A parameter is a variable that gets used in another function to show the data of a variable. \n",
    "2. Paste a **screenshot** of completion of the quiz\n",
    "\n",
    "3. Define **Return Values** and **Output Parameters** in your own words\n",
    "- A return value is a function that recalls a variable that has been defined previously. \n",
    "4. Code a **procedure** that finds the square root of any given number. (make sure to call and return the function)\n",
    "\n",
    "\n"
   ]
  },
  {
   "cell_type": "code",
   "execution_count": 5,
   "metadata": {},
   "outputs": [
    {
     "ename": "NameError",
     "evalue": "name 'math' is not defined",
     "output_type": "error",
     "traceback": [
      "\u001b[0;31m---------------------------------------------------------------------------\u001b[0m",
      "\u001b[0;31mNameError\u001b[0m                                 Traceback (most recent call last)",
      "\u001b[1;32m/Users/lukavandenboomen/vscode/Project-1-2/_notebooks/2022-12-08-Lesson-3.12-13-blog.ipynb Cell 4\u001b[0m in \u001b[0;36m<cell line: 8>\u001b[0;34m()\u001b[0m\n\u001b[1;32m      <a href='vscode-notebook-cell:/Users/lukavandenboomen/vscode/Project-1-2/_notebooks/2022-12-08-Lesson-3.12-13-blog.ipynb#W4sZmlsZQ%3D%3D?line=4'>5</a>\u001b[0m     square_root \u001b[39m=\u001b[39m x\n\u001b[1;32m      <a href='vscode-notebook-cell:/Users/lukavandenboomen/vscode/Project-1-2/_notebooks/2022-12-08-Lesson-3.12-13-blog.ipynb#W4sZmlsZQ%3D%3D?line=5'>6</a>\u001b[0m     \u001b[39mreturn\u001b[39;00m square_root\n\u001b[0;32m----> <a href='vscode-notebook-cell:/Users/lukavandenboomen/vscode/Project-1-2/_notebooks/2022-12-08-Lesson-3.12-13-blog.ipynb#W4sZmlsZQ%3D%3D?line=7'>8</a>\u001b[0m answer \u001b[39m=\u001b[39m math\u001b[39m.\u001b[39msqrt(x)\n\u001b[1;32m      <a href='vscode-notebook-cell:/Users/lukavandenboomen/vscode/Project-1-2/_notebooks/2022-12-08-Lesson-3.12-13-blog.ipynb#W4sZmlsZQ%3D%3D?line=8'>9</a>\u001b[0m \u001b[39mprint\u001b[39m(answer)\n",
      "\u001b[0;31mNameError\u001b[0m: name 'math' is not defined"
     ]
    }
   ],
   "source": [
    "x = 4\n",
    "y = 8\n",
    "\n",
    "def square_root(x):\n",
    "    square_root = x\n",
    "    return square_root\n",
    "\n",
    "answer = math.sqrt(x)\n",
    "print(answer)"
   ]
  },
  {
   "attachments": {},
   "cell_type": "markdown",
   "metadata": {},
   "source": [
    "### Topic 3.13 (3.B):\n",
    "1. Explain, in your own words, why abstracting away your program logic into separate, modular functions is effective\n",
    "2. Create a procedure that uses other sub-procedures (other functions) within it and explain why the abstraction was needed (conciseness, shared behavior, etc.)\n",
    "3. Add another layer of abstraction to the word counter program (HINT: create a function that can count the number of words starting with ANY character in a given string -- how can we leverage parameters for this?)\n",
    "\n",
    "\n",
    "### Topic 3.13 (3.C):\n",
    "1. Define <font color=\"#ffffc2\" style=\"font-weight: bold\">procedure names</font> and <font color=\"#ffffc2\" style=\"font-weight: bold\">arguments</font> in your own words.\n",
    "2. Code some <font color=\"#ffffc2\" style=\"font-weight: bold\">procedures</font> that use <font color=\"#ffffc2\" style=\"font-weight: bold\">arguments</font> and <font color=\"#ffffc2\" style=\"font-weight: bold\">parameters</font> with Javascript and HTML (make sure they are interactive on your hacks page, allowing the user to input numbers and click a button to produce an output)\n",
    "  - Add two numbers\n",
    "  - Subtract two numbers\n",
    "  - Multiply two numbers\n",
    "  - Divide two numbers"
   ]
  }
 ],
 "metadata": {
  "kernelspec": {
   "display_name": "Python 3.9.12 ('base')",
   "language": "python",
   "name": "python3"
  },
  "language_info": {
   "codemirror_mode": {
    "name": "ipython",
    "version": 3
   },
   "file_extension": ".py",
   "mimetype": "text/x-python",
   "name": "python",
   "nbconvert_exporter": "python",
   "pygments_lexer": "ipython3",
   "version": "3.9.12 (main, Apr  5 2022, 01:53:17) \n[Clang 12.0.0 ]"
  },
  "orig_nbformat": 4,
  "vscode": {
   "interpreter": {
    "hash": "647057b329c0d9024bd3a0786c24b4b9bd47f70804056596a3b82b98cd707b5b"
   }
  }
 },
 "nbformat": 4,
 "nbformat_minor": 2
}
