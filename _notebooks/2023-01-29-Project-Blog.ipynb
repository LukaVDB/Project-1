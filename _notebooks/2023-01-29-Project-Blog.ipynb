{
 "cells": [
  {
   "attachments": {},
   "cell_type": "markdown",
   "metadata": {},
   "source": [
    "# Project Blog\n",
    "Project Blog\n",
    "- toc: true\n",
    "- categories: []"
   ]
  },
  {
   "attachments": {},
   "cell_type": "markdown",
   "metadata": {},
   "source": [
    "## Program purpose and function\n",
    "1. The program purpose of this site is to help users manage their personal stocks. One of the functions of mine is that the user will take a quiz that would recommend them a stock based on their preferences."
   ]
  },
  {
   "attachments": {},
   "cell_type": "markdown",
   "metadata": {},
   "source": [
    "## Data Abstraction\n",
    "2. This would call the list of questions and the possible responses. These questions would ask the user their preferences on the stocks that they are interested in and provides them with the possible responses."
   ]
  },
  {
   "attachments": {},
   "cell_type": "markdown",
   "metadata": {},
   "source": [
    "## Procedural Abstraction\n",
    "3. This would be the quiz component. It would ask a question to the user, they need to answer to move onto the next question. They then at the end get the result for what stocks would fit their preferences. "
   ]
  },
  {
   "attachments": {},
   "cell_type": "markdown",
   "metadata": {},
   "source": [
    "## Algorithm Implementation\n",
    "4. This would also be the quiz that the user would take. I would show how the program calculates what type of stocks fit what the user wants. I plan on doing this by adding up points depending on what they respond with which would show a good match of stock."
   ]
  },
  {
   "attachments": {},
   "cell_type": "markdown",
   "metadata": {},
   "source": [
    "## Testing\n",
    "5. In the video I would show taking the quiz and the results you get from taking the quiz."
   ]
  },
  {
   "attachments": {},
   "cell_type": "markdown",
   "metadata": {},
   "source": [
    "![ImageFive](../images/ScreenShot2023-01-31at1.58.44PM.png)\n",
    "\n"
   ]
  }
 ],
 "metadata": {
  "kernelspec": {
   "display_name": "base",
   "language": "python",
   "name": "python3"
  },
  "language_info": {
   "name": "python",
   "version": "3.9.12 (main, Apr  5 2022, 01:53:17) \n[Clang 12.0.0 ]"
  },
  "orig_nbformat": 4,
  "vscode": {
   "interpreter": {
    "hash": "647057b329c0d9024bd3a0786c24b4b9bd47f70804056596a3b82b98cd707b5b"
   }
  }
 },
 "nbformat": 4,
 "nbformat_minor": 2
}
