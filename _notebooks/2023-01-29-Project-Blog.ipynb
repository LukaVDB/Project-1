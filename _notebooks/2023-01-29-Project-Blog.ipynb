{
 "cells": [
  {
   "attachments": {},
   "cell_type": "markdown",
   "metadata": {},
   "source": [
    "# Project Blog\n",
    "\n",
    "- title: CollegeBoard MCQ Blog\n",
    "- toc: true\n",
    "- categories: []"
   ]
  },
  {
   "attachments": {},
   "cell_type": "markdown",
   "metadata": {},
   "source": [
    "## Program purpose and function\n",
    "1. The program purpose of this site is to help users manage their personal stocks. One of the functions of mine is that the user will take a quiz that would recommend them a stock based on their preferences."
   ]
  },
  {
   "attachments": {},
   "cell_type": "markdown",
   "metadata": {},
   "source": [
    "## Data Abstraction\n",
    "2. This would call teh list of questions and the possible responses. "
   ]
  },
  {
   "attachments": {},
   "cell_type": "markdown",
   "metadata": {},
   "source": [
    "## Procedural Abstraction\n",
    "3. This would be the quiz component."
   ]
  },
  {
   "attachments": {},
   "cell_type": "markdown",
   "metadata": {},
   "source": [
    "## Algorithm Implementation\n",
    "4. This would also be the quiz that the user would take."
   ]
  },
  {
   "attachments": {},
   "cell_type": "markdown",
   "metadata": {},
   "source": [
    "## Testing\n",
    "In the video I would show taking the quiz and the results you get from taking the quiz."
   ]
  }
 ],
 "metadata": {
  "kernelspec": {
   "display_name": "base",
   "language": "python",
   "name": "python3"
  },
  "language_info": {
   "name": "python",
   "version": "3.9.12 (main, Apr  5 2022, 01:53:17) \n[Clang 12.0.0 ]"
  },
  "orig_nbformat": 4,
  "vscode": {
   "interpreter": {
    "hash": "647057b329c0d9024bd3a0786c24b4b9bd47f70804056596a3b82b98cd707b5b"
   }
  }
 },
 "nbformat": 4,
 "nbformat_minor": 2
}
