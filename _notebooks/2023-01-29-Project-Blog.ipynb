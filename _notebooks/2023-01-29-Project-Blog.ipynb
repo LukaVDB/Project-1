{
 "cells": [
  {
   "attachments": {},
   "cell_type": "markdown",
   "metadata": {},
   "source": [
    "# Project Blog\n",
    "Project Blog\n",
    "- toc: true\n",
    "- categories: []"
   ]
  },
  {
   "attachments": {},
   "cell_type": "markdown",
   "metadata": {},
   "source": [
    "## Program purpose and function\n",
    "1. The program purpose of this site is to help users manage their personal stocks. One of the functions of mine is that the user will take a quiz that would recommend them a stock based on their preferences."
   ]
  },
  {
   "attachments": {},
   "cell_type": "markdown",
   "metadata": {},
   "source": [
    "## Data Abstraction\n",
    "2. This would call the list of questions and the possible responses. These questions would ask the user their preferences on the stocks that they are interested in and provides them with the possible responses."
   ]
  },
  {
   "attachments": {},
   "cell_type": "markdown",
   "metadata": {},
   "source": [
    "## Procedural Abstraction\n",
    "3. This would be the quiz component. It would ask a question to the user, they need to answer to move onto the next question. They then at the end get the result for what stocks would fit their preferences. "
   ]
  },
  {
   "attachments": {},
   "cell_type": "markdown",
   "metadata": {},
   "source": [
    "## Algorithm Implementation\n",
    "4. This would also be the quiz that the user would take. I would show how the program calculates what type of stocks fit what the user wants. I plan on doing this by adding up points depending on what they respond with which would show a good match of stock."
   ]
  },
  {
   "attachments": {},
   "cell_type": "markdown",
   "metadata": {},
   "source": [
    "## Testing\n",
    "5. In the video I would show taking the quiz and the results you get from taking the quiz."
   ]
  },
  {
   "attachments": {},
   "cell_type": "markdown",
   "metadata": {},
   "source": [
    "![ImageFive](../images/ScreenShot2023-01-31at1.58.44PM.png)\n",
    "\n"
   ]
  },
  {
   "attachments": {},
   "cell_type": "markdown",
   "metadata": {},
   "source": [
    "\n",
    "# Submission 1\n",
    "\n",
    "\n",
    "| Reporting Category | Student Score | Comments |\n",
    "| - | - | - |\n",
    "| Row 1: Program Purpose and Function | 1 | The program purpose of this site is to help users manage their personal stocks. One of the functions of mine is that the user will take a quiz that would recommend them a stock based on their preferences. There will also be a quiz that tests you on different terms that are related to to the stock market to show your understanding. |\n",
    "| Row 2: Data Abstraction | 1 | I will have questions that are pulled from a list that is provided, also plan on adding a feature that would allow for users to suggest their own questions. |\n",
    "| Row 3: Managing Complexity | 1 | I plan on making the code more compact and efficient so that I can have teh same features but in a smaller amount of code. |\n",
    "| Row 4: Procedural Abstraction | 1 | It will pull the questions and the correct answer from the database so they can answer them. |\n",
    "| Row 5: Algorithm Implementation | 1 | It will take the score that the user gets on the quiz and give it out as a result. |\n",
    "| Row 6: Testing | 1 | I show how the quiz works and how the result works correctly afterwards. |\n",
    "\n"
   ]
  }
 ],
 "metadata": {
  "kernelspec": {
   "display_name": "base",
   "language": "python",
   "name": "python3"
  },
  "language_info": {
   "name": "python",
   "version": "3.9.12"
  },
  "orig_nbformat": 4,
  "vscode": {
   "interpreter": {
    "hash": "647057b329c0d9024bd3a0786c24b4b9bd47f70804056596a3b82b98cd707b5b"
   }
  }
 },
 "nbformat": 4,
 "nbformat_minor": 2
}
